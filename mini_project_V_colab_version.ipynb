{
  "nbformat": 4,
  "nbformat_minor": 0,
  "metadata": {
    "colab": {
      "provenance": [],
      "toc_visible": true,
      "collapsed_sections": [
        "Gr_wO9wCHPti",
        "CUyrzKebL_bH",
        "Jb4T5GF7ZhYj"
      ]
    },
    "kernelspec": {
      "name": "python3",
      "display_name": "Python 3"
    },
    "language_info": {
      "name": "python"
    },
    "accelerator": "GPU",
    "gpuClass": "standard"
  },
  "cells": [
    {
      "cell_type": "code",
      "execution_count": null,
      "metadata": {
        "id": "_gzzyQ7oXeyK",
        "colab": {
          "base_uri": "https://localhost:8080/",
          "height": 424
        },
        "outputId": "da8cb318-d80f-4a01-907b-4098d692c64f"
      },
      "outputs": [
        {
          "output_type": "execute_result",
          "data": {
            "text/plain": [
              "            id    qid1    qid2  \\\n",
              "0            0       1       2   \n",
              "1            1       3       4   \n",
              "2            2       5       6   \n",
              "3            3       7       8   \n",
              "4            4       9      10   \n",
              "...        ...     ...     ...   \n",
              "404285  404285  433578  379845   \n",
              "404286  404286   18840  155606   \n",
              "404287  404287  537928  537929   \n",
              "404288  404288  537930  537931   \n",
              "404289  404289  537932  537933   \n",
              "\n",
              "                                                question1  \\\n",
              "0       What is the step by step guide to invest in sh...   \n",
              "1       What is the story of Kohinoor (Koh-i-Noor) Dia...   \n",
              "2       How can I increase the speed of my internet co...   \n",
              "3       Why am I mentally very lonely? How can I solve...   \n",
              "4       Which one dissolve in water quikly sugar, salt...   \n",
              "...                                                   ...   \n",
              "404285  How many keywords are there in the Racket prog...   \n",
              "404286          Do you believe there is life after death?   \n",
              "404287                                  What is one coin?   \n",
              "404288  What is the approx annual cost of living while...   \n",
              "404289              What is like to have sex with cousin?   \n",
              "\n",
              "                                                question2  is_duplicate  \n",
              "0       What is the step by step guide to invest in sh...             0  \n",
              "1       What would happen if the Indian government sto...             0  \n",
              "2       How can Internet speed be increased by hacking...             0  \n",
              "3       Find the remainder when [math]23^{24}[/math] i...             0  \n",
              "4                 Which fish would survive in salt water?             0  \n",
              "...                                                   ...           ...  \n",
              "404285  How many keywords are there in PERL Programmin...             0  \n",
              "404286         Is it true that there is life after death?             1  \n",
              "404287                                  What's this coin?             0  \n",
              "404288  I am having little hairfall problem but I want...             0  \n",
              "404289      What is it like to have sex with your cousin?             0  \n",
              "\n",
              "[404290 rows x 6 columns]"
            ],
            "text/html": [
              "\n",
              "  <div id=\"df-4d2b10dc-8369-495a-843e-60c62ca1b643\">\n",
              "    <div class=\"colab-df-container\">\n",
              "      <div>\n",
              "<style scoped>\n",
              "    .dataframe tbody tr th:only-of-type {\n",
              "        vertical-align: middle;\n",
              "    }\n",
              "\n",
              "    .dataframe tbody tr th {\n",
              "        vertical-align: top;\n",
              "    }\n",
              "\n",
              "    .dataframe thead th {\n",
              "        text-align: right;\n",
              "    }\n",
              "</style>\n",
              "<table border=\"1\" class=\"dataframe\">\n",
              "  <thead>\n",
              "    <tr style=\"text-align: right;\">\n",
              "      <th></th>\n",
              "      <th>id</th>\n",
              "      <th>qid1</th>\n",
              "      <th>qid2</th>\n",
              "      <th>question1</th>\n",
              "      <th>question2</th>\n",
              "      <th>is_duplicate</th>\n",
              "    </tr>\n",
              "  </thead>\n",
              "  <tbody>\n",
              "    <tr>\n",
              "      <th>0</th>\n",
              "      <td>0</td>\n",
              "      <td>1</td>\n",
              "      <td>2</td>\n",
              "      <td>What is the step by step guide to invest in sh...</td>\n",
              "      <td>What is the step by step guide to invest in sh...</td>\n",
              "      <td>0</td>\n",
              "    </tr>\n",
              "    <tr>\n",
              "      <th>1</th>\n",
              "      <td>1</td>\n",
              "      <td>3</td>\n",
              "      <td>4</td>\n",
              "      <td>What is the story of Kohinoor (Koh-i-Noor) Dia...</td>\n",
              "      <td>What would happen if the Indian government sto...</td>\n",
              "      <td>0</td>\n",
              "    </tr>\n",
              "    <tr>\n",
              "      <th>2</th>\n",
              "      <td>2</td>\n",
              "      <td>5</td>\n",
              "      <td>6</td>\n",
              "      <td>How can I increase the speed of my internet co...</td>\n",
              "      <td>How can Internet speed be increased by hacking...</td>\n",
              "      <td>0</td>\n",
              "    </tr>\n",
              "    <tr>\n",
              "      <th>3</th>\n",
              "      <td>3</td>\n",
              "      <td>7</td>\n",
              "      <td>8</td>\n",
              "      <td>Why am I mentally very lonely? How can I solve...</td>\n",
              "      <td>Find the remainder when [math]23^{24}[/math] i...</td>\n",
              "      <td>0</td>\n",
              "    </tr>\n",
              "    <tr>\n",
              "      <th>4</th>\n",
              "      <td>4</td>\n",
              "      <td>9</td>\n",
              "      <td>10</td>\n",
              "      <td>Which one dissolve in water quikly sugar, salt...</td>\n",
              "      <td>Which fish would survive in salt water?</td>\n",
              "      <td>0</td>\n",
              "    </tr>\n",
              "    <tr>\n",
              "      <th>...</th>\n",
              "      <td>...</td>\n",
              "      <td>...</td>\n",
              "      <td>...</td>\n",
              "      <td>...</td>\n",
              "      <td>...</td>\n",
              "      <td>...</td>\n",
              "    </tr>\n",
              "    <tr>\n",
              "      <th>404285</th>\n",
              "      <td>404285</td>\n",
              "      <td>433578</td>\n",
              "      <td>379845</td>\n",
              "      <td>How many keywords are there in the Racket prog...</td>\n",
              "      <td>How many keywords are there in PERL Programmin...</td>\n",
              "      <td>0</td>\n",
              "    </tr>\n",
              "    <tr>\n",
              "      <th>404286</th>\n",
              "      <td>404286</td>\n",
              "      <td>18840</td>\n",
              "      <td>155606</td>\n",
              "      <td>Do you believe there is life after death?</td>\n",
              "      <td>Is it true that there is life after death?</td>\n",
              "      <td>1</td>\n",
              "    </tr>\n",
              "    <tr>\n",
              "      <th>404287</th>\n",
              "      <td>404287</td>\n",
              "      <td>537928</td>\n",
              "      <td>537929</td>\n",
              "      <td>What is one coin?</td>\n",
              "      <td>What's this coin?</td>\n",
              "      <td>0</td>\n",
              "    </tr>\n",
              "    <tr>\n",
              "      <th>404288</th>\n",
              "      <td>404288</td>\n",
              "      <td>537930</td>\n",
              "      <td>537931</td>\n",
              "      <td>What is the approx annual cost of living while...</td>\n",
              "      <td>I am having little hairfall problem but I want...</td>\n",
              "      <td>0</td>\n",
              "    </tr>\n",
              "    <tr>\n",
              "      <th>404289</th>\n",
              "      <td>404289</td>\n",
              "      <td>537932</td>\n",
              "      <td>537933</td>\n",
              "      <td>What is like to have sex with cousin?</td>\n",
              "      <td>What is it like to have sex with your cousin?</td>\n",
              "      <td>0</td>\n",
              "    </tr>\n",
              "  </tbody>\n",
              "</table>\n",
              "<p>404290 rows × 6 columns</p>\n",
              "</div>\n",
              "      <button class=\"colab-df-convert\" onclick=\"convertToInteractive('df-4d2b10dc-8369-495a-843e-60c62ca1b643')\"\n",
              "              title=\"Convert this dataframe to an interactive table.\"\n",
              "              style=\"display:none;\">\n",
              "        \n",
              "  <svg xmlns=\"http://www.w3.org/2000/svg\" height=\"24px\"viewBox=\"0 0 24 24\"\n",
              "       width=\"24px\">\n",
              "    <path d=\"M0 0h24v24H0V0z\" fill=\"none\"/>\n",
              "    <path d=\"M18.56 5.44l.94 2.06.94-2.06 2.06-.94-2.06-.94-.94-2.06-.94 2.06-2.06.94zm-11 1L8.5 8.5l.94-2.06 2.06-.94-2.06-.94L8.5 2.5l-.94 2.06-2.06.94zm10 10l.94 2.06.94-2.06 2.06-.94-2.06-.94-.94-2.06-.94 2.06-2.06.94z\"/><path d=\"M17.41 7.96l-1.37-1.37c-.4-.4-.92-.59-1.43-.59-.52 0-1.04.2-1.43.59L10.3 9.45l-7.72 7.72c-.78.78-.78 2.05 0 2.83L4 21.41c.39.39.9.59 1.41.59.51 0 1.02-.2 1.41-.59l7.78-7.78 2.81-2.81c.8-.78.8-2.07 0-2.86zM5.41 20L4 18.59l7.72-7.72 1.47 1.35L5.41 20z\"/>\n",
              "  </svg>\n",
              "      </button>\n",
              "      \n",
              "  <style>\n",
              "    .colab-df-container {\n",
              "      display:flex;\n",
              "      flex-wrap:wrap;\n",
              "      gap: 12px;\n",
              "    }\n",
              "\n",
              "    .colab-df-convert {\n",
              "      background-color: #E8F0FE;\n",
              "      border: none;\n",
              "      border-radius: 50%;\n",
              "      cursor: pointer;\n",
              "      display: none;\n",
              "      fill: #1967D2;\n",
              "      height: 32px;\n",
              "      padding: 0 0 0 0;\n",
              "      width: 32px;\n",
              "    }\n",
              "\n",
              "    .colab-df-convert:hover {\n",
              "      background-color: #E2EBFA;\n",
              "      box-shadow: 0px 1px 2px rgba(60, 64, 67, 0.3), 0px 1px 3px 1px rgba(60, 64, 67, 0.15);\n",
              "      fill: #174EA6;\n",
              "    }\n",
              "\n",
              "    [theme=dark] .colab-df-convert {\n",
              "      background-color: #3B4455;\n",
              "      fill: #D2E3FC;\n",
              "    }\n",
              "\n",
              "    [theme=dark] .colab-df-convert:hover {\n",
              "      background-color: #434B5C;\n",
              "      box-shadow: 0px 1px 3px 1px rgba(0, 0, 0, 0.15);\n",
              "      filter: drop-shadow(0px 1px 2px rgba(0, 0, 0, 0.3));\n",
              "      fill: #FFFFFF;\n",
              "    }\n",
              "  </style>\n",
              "\n",
              "      <script>\n",
              "        const buttonEl =\n",
              "          document.querySelector('#df-4d2b10dc-8369-495a-843e-60c62ca1b643 button.colab-df-convert');\n",
              "        buttonEl.style.display =\n",
              "          google.colab.kernel.accessAllowed ? 'block' : 'none';\n",
              "\n",
              "        async function convertToInteractive(key) {\n",
              "          const element = document.querySelector('#df-4d2b10dc-8369-495a-843e-60c62ca1b643');\n",
              "          const dataTable =\n",
              "            await google.colab.kernel.invokeFunction('convertToInteractive',\n",
              "                                                     [key], {});\n",
              "          if (!dataTable) return;\n",
              "\n",
              "          const docLinkHtml = 'Like what you see? Visit the ' +\n",
              "            '<a target=\"_blank\" href=https://colab.research.google.com/notebooks/data_table.ipynb>data table notebook</a>'\n",
              "            + ' to learn more about interactive tables.';\n",
              "          element.innerHTML = '';\n",
              "          dataTable['output_type'] = 'display_data';\n",
              "          await google.colab.output.renderOutput(dataTable, element);\n",
              "          const docLink = document.createElement('div');\n",
              "          docLink.innerHTML = docLinkHtml;\n",
              "          element.appendChild(docLink);\n",
              "        }\n",
              "      </script>\n",
              "    </div>\n",
              "  </div>\n",
              "  "
            ]
          },
          "metadata": {},
          "execution_count": 2
        }
      ],
      "source": [
        "import pandas as pd\n",
        "df = pd.read_csv(\"drive/MyDrive/data exercises/train.csv\")\n",
        "df"
      ]
    },
    {
      "cell_type": "code",
      "source": [
        "# Account for imbalance in data set\n",
        "\n",
        "from sklearn.model_selection import train_test_split\n",
        "df_train_0, df_test_0 = train_test_split(df[df['is_duplicate'] == 0], train_size=0.8,random_state=0)\n",
        "df_train_1, df_test_1 = train_test_split(df[df['is_duplicate'] == 1], train_size=0.8,random_state=0)\n",
        "\n",
        "df_train = pd.concat([df_train_0, df_train_1]).sample(frac=1)\n",
        "df_test = pd.concat([df_test_0, df_test_1]).sample(frac=1)\n",
        "y_train = df_train['is_duplicate']\n",
        "y_test = df_test['is_duplicate']\n",
        "print(y_test.shape)\n",
        "\n",
        "# Make sure no rows got dropped\n",
        "print(len(df_train)+len(df_test)==len(df))\n",
        "df_test.head()"
      ],
      "metadata": {
        "colab": {
          "base_uri": "https://localhost:8080/",
          "height": 241
        },
        "id": "rn8UXrI1b_MI",
        "outputId": "a5045ae3-f7cc-4fdd-90d1-ebb53a7b48bf"
      },
      "execution_count": null,
      "outputs": [
        {
          "output_type": "stream",
          "name": "stdout",
          "text": [
            "(80859,)\n",
            "True\n"
          ]
        },
        {
          "output_type": "execute_result",
          "data": {
            "text/plain": [
              "            id    qid1    qid2  \\\n",
              "117829  117829  191655  191656   \n",
              "107380  107380  176687  176688   \n",
              "253316  253316  252126  362294   \n",
              "8245      8245   16081   16082   \n",
              "395893  395893  528917  528918   \n",
              "\n",
              "                                                question1  \\\n",
              "117829  What are the differences between mRNA, tRNA, a...   \n",
              "107380  How do make my routine for studying at least 1...   \n",
              "253316             Do IAS officers get national holidays?   \n",
              "8245            How many atoms are there in the Universe?   \n",
              "395893  How do you tell your parents you got an “F” in...   \n",
              "\n",
              "                                              question2  is_duplicate  \n",
              "117829  What are the differences between mRNA and tRNA?             0  \n",
              "107380                       Mechanical enginer at jpl?             0  \n",
              "253316                    Do IAS officers get holidays?             1  \n",
              "8245      How many particles are there in the universe?             0  \n",
              "395893        How do I tell my parents that I got an F?             1  "
            ],
            "text/html": [
              "\n",
              "  <div id=\"df-1e291ceb-b9f1-46b8-b41f-4c2412a7ae7f\">\n",
              "    <div class=\"colab-df-container\">\n",
              "      <div>\n",
              "<style scoped>\n",
              "    .dataframe tbody tr th:only-of-type {\n",
              "        vertical-align: middle;\n",
              "    }\n",
              "\n",
              "    .dataframe tbody tr th {\n",
              "        vertical-align: top;\n",
              "    }\n",
              "\n",
              "    .dataframe thead th {\n",
              "        text-align: right;\n",
              "    }\n",
              "</style>\n",
              "<table border=\"1\" class=\"dataframe\">\n",
              "  <thead>\n",
              "    <tr style=\"text-align: right;\">\n",
              "      <th></th>\n",
              "      <th>id</th>\n",
              "      <th>qid1</th>\n",
              "      <th>qid2</th>\n",
              "      <th>question1</th>\n",
              "      <th>question2</th>\n",
              "      <th>is_duplicate</th>\n",
              "    </tr>\n",
              "  </thead>\n",
              "  <tbody>\n",
              "    <tr>\n",
              "      <th>117829</th>\n",
              "      <td>117829</td>\n",
              "      <td>191655</td>\n",
              "      <td>191656</td>\n",
              "      <td>What are the differences between mRNA, tRNA, a...</td>\n",
              "      <td>What are the differences between mRNA and tRNA?</td>\n",
              "      <td>0</td>\n",
              "    </tr>\n",
              "    <tr>\n",
              "      <th>107380</th>\n",
              "      <td>107380</td>\n",
              "      <td>176687</td>\n",
              "      <td>176688</td>\n",
              "      <td>How do make my routine for studying at least 1...</td>\n",
              "      <td>Mechanical enginer at jpl?</td>\n",
              "      <td>0</td>\n",
              "    </tr>\n",
              "    <tr>\n",
              "      <th>253316</th>\n",
              "      <td>253316</td>\n",
              "      <td>252126</td>\n",
              "      <td>362294</td>\n",
              "      <td>Do IAS officers get national holidays?</td>\n",
              "      <td>Do IAS officers get holidays?</td>\n",
              "      <td>1</td>\n",
              "    </tr>\n",
              "    <tr>\n",
              "      <th>8245</th>\n",
              "      <td>8245</td>\n",
              "      <td>16081</td>\n",
              "      <td>16082</td>\n",
              "      <td>How many atoms are there in the Universe?</td>\n",
              "      <td>How many particles are there in the universe?</td>\n",
              "      <td>0</td>\n",
              "    </tr>\n",
              "    <tr>\n",
              "      <th>395893</th>\n",
              "      <td>395893</td>\n",
              "      <td>528917</td>\n",
              "      <td>528918</td>\n",
              "      <td>How do you tell your parents you got an “F” in...</td>\n",
              "      <td>How do I tell my parents that I got an F?</td>\n",
              "      <td>1</td>\n",
              "    </tr>\n",
              "  </tbody>\n",
              "</table>\n",
              "</div>\n",
              "      <button class=\"colab-df-convert\" onclick=\"convertToInteractive('df-1e291ceb-b9f1-46b8-b41f-4c2412a7ae7f')\"\n",
              "              title=\"Convert this dataframe to an interactive table.\"\n",
              "              style=\"display:none;\">\n",
              "        \n",
              "  <svg xmlns=\"http://www.w3.org/2000/svg\" height=\"24px\"viewBox=\"0 0 24 24\"\n",
              "       width=\"24px\">\n",
              "    <path d=\"M0 0h24v24H0V0z\" fill=\"none\"/>\n",
              "    <path d=\"M18.56 5.44l.94 2.06.94-2.06 2.06-.94-2.06-.94-.94-2.06-.94 2.06-2.06.94zm-11 1L8.5 8.5l.94-2.06 2.06-.94-2.06-.94L8.5 2.5l-.94 2.06-2.06.94zm10 10l.94 2.06.94-2.06 2.06-.94-2.06-.94-.94-2.06-.94 2.06-2.06.94z\"/><path d=\"M17.41 7.96l-1.37-1.37c-.4-.4-.92-.59-1.43-.59-.52 0-1.04.2-1.43.59L10.3 9.45l-7.72 7.72c-.78.78-.78 2.05 0 2.83L4 21.41c.39.39.9.59 1.41.59.51 0 1.02-.2 1.41-.59l7.78-7.78 2.81-2.81c.8-.78.8-2.07 0-2.86zM5.41 20L4 18.59l7.72-7.72 1.47 1.35L5.41 20z\"/>\n",
              "  </svg>\n",
              "      </button>\n",
              "      \n",
              "  <style>\n",
              "    .colab-df-container {\n",
              "      display:flex;\n",
              "      flex-wrap:wrap;\n",
              "      gap: 12px;\n",
              "    }\n",
              "\n",
              "    .colab-df-convert {\n",
              "      background-color: #E8F0FE;\n",
              "      border: none;\n",
              "      border-radius: 50%;\n",
              "      cursor: pointer;\n",
              "      display: none;\n",
              "      fill: #1967D2;\n",
              "      height: 32px;\n",
              "      padding: 0 0 0 0;\n",
              "      width: 32px;\n",
              "    }\n",
              "\n",
              "    .colab-df-convert:hover {\n",
              "      background-color: #E2EBFA;\n",
              "      box-shadow: 0px 1px 2px rgba(60, 64, 67, 0.3), 0px 1px 3px 1px rgba(60, 64, 67, 0.15);\n",
              "      fill: #174EA6;\n",
              "    }\n",
              "\n",
              "    [theme=dark] .colab-df-convert {\n",
              "      background-color: #3B4455;\n",
              "      fill: #D2E3FC;\n",
              "    }\n",
              "\n",
              "    [theme=dark] .colab-df-convert:hover {\n",
              "      background-color: #434B5C;\n",
              "      box-shadow: 0px 1px 3px 1px rgba(0, 0, 0, 0.15);\n",
              "      filter: drop-shadow(0px 1px 2px rgba(0, 0, 0, 0.3));\n",
              "      fill: #FFFFFF;\n",
              "    }\n",
              "  </style>\n",
              "\n",
              "      <script>\n",
              "        const buttonEl =\n",
              "          document.querySelector('#df-1e291ceb-b9f1-46b8-b41f-4c2412a7ae7f button.colab-df-convert');\n",
              "        buttonEl.style.display =\n",
              "          google.colab.kernel.accessAllowed ? 'block' : 'none';\n",
              "\n",
              "        async function convertToInteractive(key) {\n",
              "          const element = document.querySelector('#df-1e291ceb-b9f1-46b8-b41f-4c2412a7ae7f');\n",
              "          const dataTable =\n",
              "            await google.colab.kernel.invokeFunction('convertToInteractive',\n",
              "                                                     [key], {});\n",
              "          if (!dataTable) return;\n",
              "\n",
              "          const docLinkHtml = 'Like what you see? Visit the ' +\n",
              "            '<a target=\"_blank\" href=https://colab.research.google.com/notebooks/data_table.ipynb>data table notebook</a>'\n",
              "            + ' to learn more about interactive tables.';\n",
              "          element.innerHTML = '';\n",
              "          dataTable['output_type'] = 'display_data';\n",
              "          await google.colab.output.renderOutput(dataTable, element);\n",
              "          const docLink = document.createElement('div');\n",
              "          docLink.innerHTML = docLinkHtml;\n",
              "          element.appendChild(docLink);\n",
              "        }\n",
              "      </script>\n",
              "    </div>\n",
              "  </div>\n",
              "  "
            ]
          },
          "metadata": {},
          "execution_count": 3
        }
      ]
    },
    {
      "cell_type": "code",
      "source": [
        "df_test.sort_values('is_duplicate', ascending=False)"
      ],
      "metadata": {
        "colab": {
          "base_uri": "https://localhost:8080/",
          "height": 424
        },
        "id": "l6F-OR2JGjmX",
        "outputId": "72cac4e0-1a03-43e2-c32c-ae02ba645d9d"
      },
      "execution_count": null,
      "outputs": [
        {
          "output_type": "execute_result",
          "data": {
            "text/plain": [
              "            id    qid1    qid2  \\\n",
              "204823  204823  103004    6699   \n",
              "147006  147006   67070   61456   \n",
              "63104    63104   97812  109872   \n",
              "378662  378662   42558  202834   \n",
              "137450  137450   37698   29331   \n",
              "...        ...     ...     ...   \n",
              "374192  374192  219962  505066   \n",
              "190406  190406   36294  289471   \n",
              "317143  317143  442296  442297   \n",
              "312408  312408  436852  156399   \n",
              "333287  333287  460340  460341   \n",
              "\n",
              "                                                question1  \\\n",
              "204823  How do I stop my American Staffy/Kelpie mix fr...   \n",
              "147006  Why has the Tata sons board voted to remove Cy...   \n",
              "63104   I'm away from home, How do I celebrate Diwali ...   \n",
              "378662                 What the benefits of smoking weed?   \n",
              "137450      Why don't people just Google their questions?   \n",
              "...                                                   ...   \n",
              "374192  How do I calculate engineering aggregate perce...   \n",
              "190406     What are the best books on Islamic philosophy?   \n",
              "317143  How long would it take for a colony on Mars to...   \n",
              "312408                 Is there a smart village in India?   \n",
              "333287  How does Trump's victory affect the survival o...   \n",
              "\n",
              "                                                question2  is_duplicate  \n",
              "204823  How do I stop my Shepherd-Husky mix puppy from...             1  \n",
              "147006  Why has the Tata Sons Board voted to remove Cy...             1  \n",
              "63104   How can one celebrate Diwali (Festival of Ligh...             1  \n",
              "378662             What are the benefits of smoking weed?             1  \n",
              "137450  Why don't Quora people just look up the answer...             1  \n",
              "...                                                   ...           ...  \n",
              "374192  I'm a VTU pass-out, applying for ias exam. Wha...             0  \n",
              "190406     What are some good books on Islamic economics?             0  \n",
              "317143  How cool would it be if we could transfer our ...             0  \n",
              "312408  How can we develop a village as a smart villag...             0  \n",
              "333287  Why do Pakistanis criticize India for Babri Ma...             0  \n",
              "\n",
              "[80859 rows x 6 columns]"
            ],
            "text/html": [
              "\n",
              "  <div id=\"df-46aaa4d1-5edb-4eb8-8baf-56f8927d6567\">\n",
              "    <div class=\"colab-df-container\">\n",
              "      <div>\n",
              "<style scoped>\n",
              "    .dataframe tbody tr th:only-of-type {\n",
              "        vertical-align: middle;\n",
              "    }\n",
              "\n",
              "    .dataframe tbody tr th {\n",
              "        vertical-align: top;\n",
              "    }\n",
              "\n",
              "    .dataframe thead th {\n",
              "        text-align: right;\n",
              "    }\n",
              "</style>\n",
              "<table border=\"1\" class=\"dataframe\">\n",
              "  <thead>\n",
              "    <tr style=\"text-align: right;\">\n",
              "      <th></th>\n",
              "      <th>id</th>\n",
              "      <th>qid1</th>\n",
              "      <th>qid2</th>\n",
              "      <th>question1</th>\n",
              "      <th>question2</th>\n",
              "      <th>is_duplicate</th>\n",
              "    </tr>\n",
              "  </thead>\n",
              "  <tbody>\n",
              "    <tr>\n",
              "      <th>204823</th>\n",
              "      <td>204823</td>\n",
              "      <td>103004</td>\n",
              "      <td>6699</td>\n",
              "      <td>How do I stop my American Staffy/Kelpie mix fr...</td>\n",
              "      <td>How do I stop my Shepherd-Husky mix puppy from...</td>\n",
              "      <td>1</td>\n",
              "    </tr>\n",
              "    <tr>\n",
              "      <th>147006</th>\n",
              "      <td>147006</td>\n",
              "      <td>67070</td>\n",
              "      <td>61456</td>\n",
              "      <td>Why has the Tata sons board voted to remove Cy...</td>\n",
              "      <td>Why has the Tata Sons Board voted to remove Cy...</td>\n",
              "      <td>1</td>\n",
              "    </tr>\n",
              "    <tr>\n",
              "      <th>63104</th>\n",
              "      <td>63104</td>\n",
              "      <td>97812</td>\n",
              "      <td>109872</td>\n",
              "      <td>I'm away from home, How do I celebrate Diwali ...</td>\n",
              "      <td>How can one celebrate Diwali (Festival of Ligh...</td>\n",
              "      <td>1</td>\n",
              "    </tr>\n",
              "    <tr>\n",
              "      <th>378662</th>\n",
              "      <td>378662</td>\n",
              "      <td>42558</td>\n",
              "      <td>202834</td>\n",
              "      <td>What the benefits of smoking weed?</td>\n",
              "      <td>What are the benefits of smoking weed?</td>\n",
              "      <td>1</td>\n",
              "    </tr>\n",
              "    <tr>\n",
              "      <th>137450</th>\n",
              "      <td>137450</td>\n",
              "      <td>37698</td>\n",
              "      <td>29331</td>\n",
              "      <td>Why don't people just Google their questions?</td>\n",
              "      <td>Why don't Quora people just look up the answer...</td>\n",
              "      <td>1</td>\n",
              "    </tr>\n",
              "    <tr>\n",
              "      <th>...</th>\n",
              "      <td>...</td>\n",
              "      <td>...</td>\n",
              "      <td>...</td>\n",
              "      <td>...</td>\n",
              "      <td>...</td>\n",
              "      <td>...</td>\n",
              "    </tr>\n",
              "    <tr>\n",
              "      <th>374192</th>\n",
              "      <td>374192</td>\n",
              "      <td>219962</td>\n",
              "      <td>505066</td>\n",
              "      <td>How do I calculate engineering aggregate perce...</td>\n",
              "      <td>I'm a VTU pass-out, applying for ias exam. Wha...</td>\n",
              "      <td>0</td>\n",
              "    </tr>\n",
              "    <tr>\n",
              "      <th>190406</th>\n",
              "      <td>190406</td>\n",
              "      <td>36294</td>\n",
              "      <td>289471</td>\n",
              "      <td>What are the best books on Islamic philosophy?</td>\n",
              "      <td>What are some good books on Islamic economics?</td>\n",
              "      <td>0</td>\n",
              "    </tr>\n",
              "    <tr>\n",
              "      <th>317143</th>\n",
              "      <td>317143</td>\n",
              "      <td>442296</td>\n",
              "      <td>442297</td>\n",
              "      <td>How long would it take for a colony on Mars to...</td>\n",
              "      <td>How cool would it be if we could transfer our ...</td>\n",
              "      <td>0</td>\n",
              "    </tr>\n",
              "    <tr>\n",
              "      <th>312408</th>\n",
              "      <td>312408</td>\n",
              "      <td>436852</td>\n",
              "      <td>156399</td>\n",
              "      <td>Is there a smart village in India?</td>\n",
              "      <td>How can we develop a village as a smart villag...</td>\n",
              "      <td>0</td>\n",
              "    </tr>\n",
              "    <tr>\n",
              "      <th>333287</th>\n",
              "      <td>333287</td>\n",
              "      <td>460340</td>\n",
              "      <td>460341</td>\n",
              "      <td>How does Trump's victory affect the survival o...</td>\n",
              "      <td>Why do Pakistanis criticize India for Babri Ma...</td>\n",
              "      <td>0</td>\n",
              "    </tr>\n",
              "  </tbody>\n",
              "</table>\n",
              "<p>80859 rows × 6 columns</p>\n",
              "</div>\n",
              "      <button class=\"colab-df-convert\" onclick=\"convertToInteractive('df-46aaa4d1-5edb-4eb8-8baf-56f8927d6567')\"\n",
              "              title=\"Convert this dataframe to an interactive table.\"\n",
              "              style=\"display:none;\">\n",
              "        \n",
              "  <svg xmlns=\"http://www.w3.org/2000/svg\" height=\"24px\"viewBox=\"0 0 24 24\"\n",
              "       width=\"24px\">\n",
              "    <path d=\"M0 0h24v24H0V0z\" fill=\"none\"/>\n",
              "    <path d=\"M18.56 5.44l.94 2.06.94-2.06 2.06-.94-2.06-.94-.94-2.06-.94 2.06-2.06.94zm-11 1L8.5 8.5l.94-2.06 2.06-.94-2.06-.94L8.5 2.5l-.94 2.06-2.06.94zm10 10l.94 2.06.94-2.06 2.06-.94-2.06-.94-.94-2.06-.94 2.06-2.06.94z\"/><path d=\"M17.41 7.96l-1.37-1.37c-.4-.4-.92-.59-1.43-.59-.52 0-1.04.2-1.43.59L10.3 9.45l-7.72 7.72c-.78.78-.78 2.05 0 2.83L4 21.41c.39.39.9.59 1.41.59.51 0 1.02-.2 1.41-.59l7.78-7.78 2.81-2.81c.8-.78.8-2.07 0-2.86zM5.41 20L4 18.59l7.72-7.72 1.47 1.35L5.41 20z\"/>\n",
              "  </svg>\n",
              "      </button>\n",
              "      \n",
              "  <style>\n",
              "    .colab-df-container {\n",
              "      display:flex;\n",
              "      flex-wrap:wrap;\n",
              "      gap: 12px;\n",
              "    }\n",
              "\n",
              "    .colab-df-convert {\n",
              "      background-color: #E8F0FE;\n",
              "      border: none;\n",
              "      border-radius: 50%;\n",
              "      cursor: pointer;\n",
              "      display: none;\n",
              "      fill: #1967D2;\n",
              "      height: 32px;\n",
              "      padding: 0 0 0 0;\n",
              "      width: 32px;\n",
              "    }\n",
              "\n",
              "    .colab-df-convert:hover {\n",
              "      background-color: #E2EBFA;\n",
              "      box-shadow: 0px 1px 2px rgba(60, 64, 67, 0.3), 0px 1px 3px 1px rgba(60, 64, 67, 0.15);\n",
              "      fill: #174EA6;\n",
              "    }\n",
              "\n",
              "    [theme=dark] .colab-df-convert {\n",
              "      background-color: #3B4455;\n",
              "      fill: #D2E3FC;\n",
              "    }\n",
              "\n",
              "    [theme=dark] .colab-df-convert:hover {\n",
              "      background-color: #434B5C;\n",
              "      box-shadow: 0px 1px 3px 1px rgba(0, 0, 0, 0.15);\n",
              "      filter: drop-shadow(0px 1px 2px rgba(0, 0, 0, 0.3));\n",
              "      fill: #FFFFFF;\n",
              "    }\n",
              "  </style>\n",
              "\n",
              "      <script>\n",
              "        const buttonEl =\n",
              "          document.querySelector('#df-46aaa4d1-5edb-4eb8-8baf-56f8927d6567 button.colab-df-convert');\n",
              "        buttonEl.style.display =\n",
              "          google.colab.kernel.accessAllowed ? 'block' : 'none';\n",
              "\n",
              "        async function convertToInteractive(key) {\n",
              "          const element = document.querySelector('#df-46aaa4d1-5edb-4eb8-8baf-56f8927d6567');\n",
              "          const dataTable =\n",
              "            await google.colab.kernel.invokeFunction('convertToInteractive',\n",
              "                                                     [key], {});\n",
              "          if (!dataTable) return;\n",
              "\n",
              "          const docLinkHtml = 'Like what you see? Visit the ' +\n",
              "            '<a target=\"_blank\" href=https://colab.research.google.com/notebooks/data_table.ipynb>data table notebook</a>'\n",
              "            + ' to learn more about interactive tables.';\n",
              "          element.innerHTML = '';\n",
              "          dataTable['output_type'] = 'display_data';\n",
              "          await google.colab.output.renderOutput(dataTable, element);\n",
              "          const docLink = document.createElement('div');\n",
              "          docLink.innerHTML = docLinkHtml;\n",
              "          element.appendChild(docLink);\n",
              "        }\n",
              "      </script>\n",
              "    </div>\n",
              "  </div>\n",
              "  "
            ]
          },
          "metadata": {},
          "execution_count": 62
        }
      ]
    },
    {
      "cell_type": "markdown",
      "source": [
        "# Forest Models"
      ],
      "metadata": {
        "id": "vcHGO9OxcbnV"
      }
    },
    {
      "cell_type": "code",
      "source": [
        "from nltk.tokenize import word_tokenize\n",
        "import string\n",
        "from nltk.corpus import stopwords\n",
        "from nltk.stem import WordNetLemmatizer"
      ],
      "metadata": {
        "id": "C6IZOhpUcMVp"
      },
      "execution_count": null,
      "outputs": []
    },
    {
      "cell_type": "code",
      "source": [
        "# Forest models\n",
        "    # Data prep using .itertuples()\n",
        "# %%time\n",
        "import nltk\n",
        "nltk.download('punkt')\n",
        "nltk.download('wordnet')\n",
        "nltk.download('omw-1.4')\n",
        "nltk.download('stopwords')\n",
        "def process_doc(doc):\n",
        "\n",
        "    # remove special characters\n",
        "    doc = ''.join([char for char in str(doc) if not char in string.punctuation]) ###\n",
        "\n",
        "    # Split text into single words (also gets rid of extra white spaces)\n",
        "    words = word_tokenize(doc)\n",
        "\n",
        "    # Convert to lower case\n",
        "    words = [word.lower() for word in words]\n",
        "\n",
        "    # Stem\n",
        "    # porter = PorterStemmer()\n",
        "    # words = [porter.stem(word) for word in words]\n",
        "    wnl = WordNetLemmatizer()\n",
        "    words = [wnl.lemmatize(word) for word in words]\n",
        "\n",
        "    return words\n",
        "\n",
        "# feature engineering\n",
        "def process_pairs(df):\n",
        "    \"\"\"\n",
        "    Perform feature engineering on pairs of questions for forest models.\n",
        "    \"\"\"\n",
        "\n",
        "    length_diff = []\n",
        "    n_common_words = []\n",
        "    df2 = pd.DataFrame()\n",
        "    for index, q1, q2 in df[['question1', 'question2']].itertuples():\n",
        "        # Preprocess\n",
        "        tokens1 = process_doc(q1)\n",
        "        tokens2 = process_doc(q2)\n",
        "        # print(tokens1)\n",
        "        # print(tokens2)\n",
        "        # print()\n",
        "\n",
        "        # Get number of words for q1 and a2 and the ratio of these values\n",
        "        df2.loc[index,'Q1 length'] = int(len(tokens1))\n",
        "        df2.loc[index,'Q2 length'] = len(tokens2)\n",
        "        df2.loc[index,'length ratio'] = min([len(tokens1), len(tokens2)]) / max([len(tokens1), len(tokens2)])\n",
        "\n",
        "        # Number of common words between q1 and q2\n",
        "        common_words = set(tokens1) & set(tokens2)\n",
        "        df2.loc[index,'N common words'] = len(common_words)\n",
        "\n",
        "        # Common words between q1 and q2 as a percentage of longest question in the pair\n",
        "        df2.loc[index,'common words percentage'] = len(common_words) / max([len(tokens1), len(tokens2)])\n",
        "        try:\n",
        "            df2.loc[index,'same last word'] = int(tokens1[-1] == tokens2[-1])\n",
        "        except:\n",
        "            df2.loc[index,'same last word'] = 0\n",
        "\n",
        "        # Same frequency of the word 'not'\n",
        "        df2.loc[index,'not_count1'] = sum(word=='not' for word in tokens1)\n",
        "    \n",
        "        # # Remove stop words aside from the 5 why's + how\n",
        "        stop_words = set(stopwords.words('english')) - set(['who', 'what', 'where', 'when', 'how', 'why'])\n",
        "        words1 = [w for w in tokens1 if not w in stop_words]\n",
        "        words2 = [w for w in tokens2 if not w in stop_words]\n",
        "\n",
        "        # Number of common words between q1 and q2 with stop words removed\n",
        "        common_words_nonstop = set(words1) & set(words2)\n",
        "        df2.loc[index,'N common non-stop words'] = len(common_words_nonstop)\n",
        "        df2.loc[index,'common non-stop words percentage'] = len(common_words_nonstop) / max(\n",
        "            [len(words1), len(words2)])\n",
        "        \n",
        "        # print(words2,'\\n')\n",
        "        \n",
        "    # length difference\n",
        "    df2['Q1 Q1 length difference'] = abs(df2['Q1 length'] - df2['Q2 length'])\n",
        "\n",
        "    return df2\n",
        "        \n",
        "\n",
        "# X_train = process_pairs(df_train)"
      ],
      "metadata": {
        "colab": {
          "base_uri": "https://localhost:8080/"
        },
        "id": "msXABNNjcMR2",
        "outputId": "614ae5f4-2076-458a-c3e4-4810d5fc7c86"
      },
      "execution_count": null,
      "outputs": [
        {
          "output_type": "stream",
          "name": "stderr",
          "text": [
            "[nltk_data] Downloading package punkt to /root/nltk_data...\n",
            "[nltk_data]   Unzipping tokenizers/punkt.zip.\n",
            "[nltk_data] Downloading package wordnet to /root/nltk_data...\n",
            "[nltk_data] Downloading package omw-1.4 to /root/nltk_data...\n",
            "[nltk_data] Downloading package stopwords to /root/nltk_data...\n",
            "[nltk_data]   Unzipping corpora/stopwords.zip.\n"
          ]
        }
      ]
    },
    {
      "cell_type": "code",
      "source": [
        "y_test"
      ],
      "metadata": {
        "colab": {
          "base_uri": "https://localhost:8080/"
        },
        "id": "FiqyTbwg9QO1",
        "outputId": "4fdff185-8d5b-4d6a-a982-1b93f18e82f8"
      },
      "execution_count": null,
      "outputs": [
        {
          "output_type": "execute_result",
          "data": {
            "text/plain": [
              "16290     0\n",
              "293587    0\n",
              "129570    0\n",
              "282137    0\n",
              "377862    0\n",
              "         ..\n",
              "179307    0\n",
              "291522    1\n",
              "185729    1\n",
              "307605    0\n",
              "18270     0\n",
              "Name: is_duplicate, Length: 4043, dtype: int64"
            ]
          },
          "metadata": {},
          "execution_count": 23
        }
      ]
    },
    {
      "cell_type": "code",
      "source": [
        "print(type(X_train))\n",
        "import pickle\n",
        "with open('drive/MyDrive/data exercises/X_train.sav', 'wb') as fh:\n",
        "   pickle.dump(X_train, fh)"
      ],
      "metadata": {
        "id": "MC60KO9CxUvC"
      },
      "execution_count": null,
      "outputs": []
    },
    {
      "cell_type": "code",
      "source": [
        "# Load saved X_train dataframe\n",
        "import pickle\n",
        "pickle_off = open('drive/MyDrive/data exercises/X_train.sav', 'rb')\n",
        "X_train = pickle.load(pickle_off)\n",
        "X_train"
      ],
      "metadata": {
        "colab": {
          "base_uri": "https://localhost:8080/",
          "height": 485
        },
        "id": "Xv_aVeLQ5Kbc",
        "outputId": "8e118949-66d5-44ff-ab9e-c15de02360a8"
      },
      "execution_count": null,
      "outputs": [
        {
          "output_type": "execute_result",
          "data": {
            "text/plain": [
              "        Q1 length  Q2 length  length ratio  N common words  \\\n",
              "248660        5.0        8.0      0.625000             4.0   \n",
              "367938       11.0       10.0      0.909091             6.0   \n",
              "131579        8.0        6.0      0.750000             6.0   \n",
              "94669         8.0       10.0      0.800000             0.0   \n",
              "273892        8.0        6.0      0.750000             5.0   \n",
              "...           ...        ...           ...             ...   \n",
              "148564       11.0       12.0      0.916667             8.0   \n",
              "226406        6.0       10.0      0.600000             2.0   \n",
              "382161       12.0       13.0      0.923077             8.0   \n",
              "307244       11.0       12.0      0.916667            11.0   \n",
              "188163       12.0       12.0      1.000000            11.0   \n",
              "\n",
              "        common words percentage  same last word  not_count1  \\\n",
              "248660                 0.500000             0.0         0.0   \n",
              "367938                 0.545455             0.0         0.0   \n",
              "131579                 0.750000             0.0         0.0   \n",
              "94669                  0.000000             0.0         0.0   \n",
              "273892                 0.625000             0.0         0.0   \n",
              "...                         ...             ...         ...   \n",
              "148564                 0.666667             1.0         0.0   \n",
              "226406                 0.200000             0.0         0.0   \n",
              "382161                 0.615385             0.0         0.0   \n",
              "307244                 0.916667             1.0         0.0   \n",
              "188163                 0.916667             0.0         0.0   \n",
              "\n",
              "        N common non-stop words  common non-stop words percentage  \\\n",
              "248660                      4.0                          0.666667   \n",
              "367938                      5.0                          0.625000   \n",
              "131579                      3.0                          0.750000   \n",
              "94669                       0.0                          0.000000   \n",
              "273892                      3.0                          0.750000   \n",
              "...                         ...                               ...   \n",
              "148564                      4.0                          0.666667   \n",
              "226406                      2.0                          0.285714   \n",
              "382161                      4.0                          0.500000   \n",
              "307244                      6.0                          0.857143   \n",
              "188163                      8.0                          0.888889   \n",
              "\n",
              "        Q1 Q1 length difference  \n",
              "248660                      3.0  \n",
              "367938                      1.0  \n",
              "131579                      2.0  \n",
              "94669                       2.0  \n",
              "273892                      2.0  \n",
              "...                         ...  \n",
              "148564                      1.0  \n",
              "226406                      4.0  \n",
              "382161                      1.0  \n",
              "307244                      1.0  \n",
              "188163                      0.0  \n",
              "\n",
              "[323431 rows x 10 columns]"
            ],
            "text/html": [
              "\n",
              "  <div id=\"df-aa95fcdf-97e2-4a48-9691-9ec2772151f2\">\n",
              "    <div class=\"colab-df-container\">\n",
              "      <div>\n",
              "<style scoped>\n",
              "    .dataframe tbody tr th:only-of-type {\n",
              "        vertical-align: middle;\n",
              "    }\n",
              "\n",
              "    .dataframe tbody tr th {\n",
              "        vertical-align: top;\n",
              "    }\n",
              "\n",
              "    .dataframe thead th {\n",
              "        text-align: right;\n",
              "    }\n",
              "</style>\n",
              "<table border=\"1\" class=\"dataframe\">\n",
              "  <thead>\n",
              "    <tr style=\"text-align: right;\">\n",
              "      <th></th>\n",
              "      <th>Q1 length</th>\n",
              "      <th>Q2 length</th>\n",
              "      <th>length ratio</th>\n",
              "      <th>N common words</th>\n",
              "      <th>common words percentage</th>\n",
              "      <th>same last word</th>\n",
              "      <th>not_count1</th>\n",
              "      <th>N common non-stop words</th>\n",
              "      <th>common non-stop words percentage</th>\n",
              "      <th>Q1 Q1 length difference</th>\n",
              "    </tr>\n",
              "  </thead>\n",
              "  <tbody>\n",
              "    <tr>\n",
              "      <th>248660</th>\n",
              "      <td>5.0</td>\n",
              "      <td>8.0</td>\n",
              "      <td>0.625000</td>\n",
              "      <td>4.0</td>\n",
              "      <td>0.500000</td>\n",
              "      <td>0.0</td>\n",
              "      <td>0.0</td>\n",
              "      <td>4.0</td>\n",
              "      <td>0.666667</td>\n",
              "      <td>3.0</td>\n",
              "    </tr>\n",
              "    <tr>\n",
              "      <th>367938</th>\n",
              "      <td>11.0</td>\n",
              "      <td>10.0</td>\n",
              "      <td>0.909091</td>\n",
              "      <td>6.0</td>\n",
              "      <td>0.545455</td>\n",
              "      <td>0.0</td>\n",
              "      <td>0.0</td>\n",
              "      <td>5.0</td>\n",
              "      <td>0.625000</td>\n",
              "      <td>1.0</td>\n",
              "    </tr>\n",
              "    <tr>\n",
              "      <th>131579</th>\n",
              "      <td>8.0</td>\n",
              "      <td>6.0</td>\n",
              "      <td>0.750000</td>\n",
              "      <td>6.0</td>\n",
              "      <td>0.750000</td>\n",
              "      <td>0.0</td>\n",
              "      <td>0.0</td>\n",
              "      <td>3.0</td>\n",
              "      <td>0.750000</td>\n",
              "      <td>2.0</td>\n",
              "    </tr>\n",
              "    <tr>\n",
              "      <th>94669</th>\n",
              "      <td>8.0</td>\n",
              "      <td>10.0</td>\n",
              "      <td>0.800000</td>\n",
              "      <td>0.0</td>\n",
              "      <td>0.000000</td>\n",
              "      <td>0.0</td>\n",
              "      <td>0.0</td>\n",
              "      <td>0.0</td>\n",
              "      <td>0.000000</td>\n",
              "      <td>2.0</td>\n",
              "    </tr>\n",
              "    <tr>\n",
              "      <th>273892</th>\n",
              "      <td>8.0</td>\n",
              "      <td>6.0</td>\n",
              "      <td>0.750000</td>\n",
              "      <td>5.0</td>\n",
              "      <td>0.625000</td>\n",
              "      <td>0.0</td>\n",
              "      <td>0.0</td>\n",
              "      <td>3.0</td>\n",
              "      <td>0.750000</td>\n",
              "      <td>2.0</td>\n",
              "    </tr>\n",
              "    <tr>\n",
              "      <th>...</th>\n",
              "      <td>...</td>\n",
              "      <td>...</td>\n",
              "      <td>...</td>\n",
              "      <td>...</td>\n",
              "      <td>...</td>\n",
              "      <td>...</td>\n",
              "      <td>...</td>\n",
              "      <td>...</td>\n",
              "      <td>...</td>\n",
              "      <td>...</td>\n",
              "    </tr>\n",
              "    <tr>\n",
              "      <th>148564</th>\n",
              "      <td>11.0</td>\n",
              "      <td>12.0</td>\n",
              "      <td>0.916667</td>\n",
              "      <td>8.0</td>\n",
              "      <td>0.666667</td>\n",
              "      <td>1.0</td>\n",
              "      <td>0.0</td>\n",
              "      <td>4.0</td>\n",
              "      <td>0.666667</td>\n",
              "      <td>1.0</td>\n",
              "    </tr>\n",
              "    <tr>\n",
              "      <th>226406</th>\n",
              "      <td>6.0</td>\n",
              "      <td>10.0</td>\n",
              "      <td>0.600000</td>\n",
              "      <td>2.0</td>\n",
              "      <td>0.200000</td>\n",
              "      <td>0.0</td>\n",
              "      <td>0.0</td>\n",
              "      <td>2.0</td>\n",
              "      <td>0.285714</td>\n",
              "      <td>4.0</td>\n",
              "    </tr>\n",
              "    <tr>\n",
              "      <th>382161</th>\n",
              "      <td>12.0</td>\n",
              "      <td>13.0</td>\n",
              "      <td>0.923077</td>\n",
              "      <td>8.0</td>\n",
              "      <td>0.615385</td>\n",
              "      <td>0.0</td>\n",
              "      <td>0.0</td>\n",
              "      <td>4.0</td>\n",
              "      <td>0.500000</td>\n",
              "      <td>1.0</td>\n",
              "    </tr>\n",
              "    <tr>\n",
              "      <th>307244</th>\n",
              "      <td>11.0</td>\n",
              "      <td>12.0</td>\n",
              "      <td>0.916667</td>\n",
              "      <td>11.0</td>\n",
              "      <td>0.916667</td>\n",
              "      <td>1.0</td>\n",
              "      <td>0.0</td>\n",
              "      <td>6.0</td>\n",
              "      <td>0.857143</td>\n",
              "      <td>1.0</td>\n",
              "    </tr>\n",
              "    <tr>\n",
              "      <th>188163</th>\n",
              "      <td>12.0</td>\n",
              "      <td>12.0</td>\n",
              "      <td>1.000000</td>\n",
              "      <td>11.0</td>\n",
              "      <td>0.916667</td>\n",
              "      <td>0.0</td>\n",
              "      <td>0.0</td>\n",
              "      <td>8.0</td>\n",
              "      <td>0.888889</td>\n",
              "      <td>0.0</td>\n",
              "    </tr>\n",
              "  </tbody>\n",
              "</table>\n",
              "<p>323431 rows × 10 columns</p>\n",
              "</div>\n",
              "      <button class=\"colab-df-convert\" onclick=\"convertToInteractive('df-aa95fcdf-97e2-4a48-9691-9ec2772151f2')\"\n",
              "              title=\"Convert this dataframe to an interactive table.\"\n",
              "              style=\"display:none;\">\n",
              "        \n",
              "  <svg xmlns=\"http://www.w3.org/2000/svg\" height=\"24px\"viewBox=\"0 0 24 24\"\n",
              "       width=\"24px\">\n",
              "    <path d=\"M0 0h24v24H0V0z\" fill=\"none\"/>\n",
              "    <path d=\"M18.56 5.44l.94 2.06.94-2.06 2.06-.94-2.06-.94-.94-2.06-.94 2.06-2.06.94zm-11 1L8.5 8.5l.94-2.06 2.06-.94-2.06-.94L8.5 2.5l-.94 2.06-2.06.94zm10 10l.94 2.06.94-2.06 2.06-.94-2.06-.94-.94-2.06-.94 2.06-2.06.94z\"/><path d=\"M17.41 7.96l-1.37-1.37c-.4-.4-.92-.59-1.43-.59-.52 0-1.04.2-1.43.59L10.3 9.45l-7.72 7.72c-.78.78-.78 2.05 0 2.83L4 21.41c.39.39.9.59 1.41.59.51 0 1.02-.2 1.41-.59l7.78-7.78 2.81-2.81c.8-.78.8-2.07 0-2.86zM5.41 20L4 18.59l7.72-7.72 1.47 1.35L5.41 20z\"/>\n",
              "  </svg>\n",
              "      </button>\n",
              "      \n",
              "  <style>\n",
              "    .colab-df-container {\n",
              "      display:flex;\n",
              "      flex-wrap:wrap;\n",
              "      gap: 12px;\n",
              "    }\n",
              "\n",
              "    .colab-df-convert {\n",
              "      background-color: #E8F0FE;\n",
              "      border: none;\n",
              "      border-radius: 50%;\n",
              "      cursor: pointer;\n",
              "      display: none;\n",
              "      fill: #1967D2;\n",
              "      height: 32px;\n",
              "      padding: 0 0 0 0;\n",
              "      width: 32px;\n",
              "    }\n",
              "\n",
              "    .colab-df-convert:hover {\n",
              "      background-color: #E2EBFA;\n",
              "      box-shadow: 0px 1px 2px rgba(60, 64, 67, 0.3), 0px 1px 3px 1px rgba(60, 64, 67, 0.15);\n",
              "      fill: #174EA6;\n",
              "    }\n",
              "\n",
              "    [theme=dark] .colab-df-convert {\n",
              "      background-color: #3B4455;\n",
              "      fill: #D2E3FC;\n",
              "    }\n",
              "\n",
              "    [theme=dark] .colab-df-convert:hover {\n",
              "      background-color: #434B5C;\n",
              "      box-shadow: 0px 1px 3px 1px rgba(0, 0, 0, 0.15);\n",
              "      filter: drop-shadow(0px 1px 2px rgba(0, 0, 0, 0.3));\n",
              "      fill: #FFFFFF;\n",
              "    }\n",
              "  </style>\n",
              "\n",
              "      <script>\n",
              "        const buttonEl =\n",
              "          document.querySelector('#df-aa95fcdf-97e2-4a48-9691-9ec2772151f2 button.colab-df-convert');\n",
              "        buttonEl.style.display =\n",
              "          google.colab.kernel.accessAllowed ? 'block' : 'none';\n",
              "\n",
              "        async function convertToInteractive(key) {\n",
              "          const element = document.querySelector('#df-aa95fcdf-97e2-4a48-9691-9ec2772151f2');\n",
              "          const dataTable =\n",
              "            await google.colab.kernel.invokeFunction('convertToInteractive',\n",
              "                                                     [key], {});\n",
              "          if (!dataTable) return;\n",
              "\n",
              "          const docLinkHtml = 'Like what you see? Visit the ' +\n",
              "            '<a target=\"_blank\" href=https://colab.research.google.com/notebooks/data_table.ipynb>data table notebook</a>'\n",
              "            + ' to learn more about interactive tables.';\n",
              "          element.innerHTML = '';\n",
              "          dataTable['output_type'] = 'display_data';\n",
              "          await google.colab.output.renderOutput(dataTable, element);\n",
              "          const docLink = document.createElement('div');\n",
              "          docLink.innerHTML = docLinkHtml;\n",
              "          element.appendChild(docLink);\n",
              "        }\n",
              "      </script>\n",
              "    </div>\n",
              "  </div>\n",
              "  "
            ]
          },
          "metadata": {},
          "execution_count": 11
        }
      ]
    },
    {
      "cell_type": "code",
      "source": [
        "from sklearn.base import BaseEstimator\n",
        "from sklearn.linear_model import LogisticRegression\n",
        "class ClfSwitcher(BaseEstimator):\n",
        "# Create a class named ClfSwitcher which inherits the base class called BaseEstimator from sklearn.\n",
        "    def __init__(self, estimator = LogisticRegression()):\n",
        "            self.estimator = estimator # receives an estimator (model) as an input\n",
        "            \n",
        "    def fit(self, X, y=None, **kwargs):\n",
        "            self.estimator.fit(X, y)\n",
        "            return self\n",
        "            \n",
        "    def predict(self, X, y=None):\n",
        "            return self.estimator.predict(X)\n",
        "            \n",
        "    def predict_proba(self, X):\n",
        "            return self.estimator.predict_proba(X)\n",
        "            \n",
        "    def score(self, X, y):\n",
        "            return self.estimator.score(X, y)\n",
        "\n",
        "\n",
        "from sklearn.model_selection import GridSearchCV\n",
        "from sklearn.pipeline import Pipeline\n",
        "from sklearn.preprocessing import FunctionTransformer\n",
        "from sklearn.svm import SVC\n",
        "from sklearn.ensemble import RandomForestClassifier\n",
        "import xgboost as xgb"
      ],
      "metadata": {
        "id": "7gYUrZTGVNK2"
      },
      "execution_count": null,
      "outputs": []
    },
    {
      "cell_type": "code",
      "source": [
        "forest_pipe = Pipeline([\n",
        "    # ('process_pairs', FunctionTransformer(process_pairs)),\n",
        "    ('model', ClfSwitcher())\n",
        "])\n",
        "# forest_pipe.fit_transform(df.head()) # This line works before the modeling step\n",
        "grid_params = [\n",
        "    # {\n",
        "    #     'model__estimator': [LogisticRegression(random_state=0)],\n",
        "    #     'model__estimator__class_weight': [None, 'balanced']\n",
        "    #     },\n",
        "    # {\n",
        "    #     'model__estimator': [SVC(random_state=0)],\n",
        "    #     'model__estimator__class_weight': [None, 'balanced']\n",
        "    #     },\n",
        "    {\n",
        "        'model__estimator': [xgb.XGBClassifier(random_state=0)],\n",
        "        'model__estimator__n_estimators': [100, 50]\n",
        "        },\n",
        "    {\n",
        "        'model__estimator': [RandomForestClassifier(random_state=0)],\n",
        "        'model__estimator__n_estimators': [50, 100, 150]\n",
        "        },\n",
        "    ]\n",
        "gs = GridSearchCV(forest_pipe, grid_params, scoring='accuracy')\n",
        "y_pred_train = gs.fit(X_train, y_train) # 2022-11-17 20:36 accidentally named the fit grid search model as y_pred_train even though no predictions made yet\n",
        "# print(gs.best_estimator_)\n",
        "print(gs.best_params_)"
      ],
      "metadata": {
        "colab": {
          "base_uri": "https://localhost:8080/"
        },
        "id": "42PIMTf6cMOf",
        "outputId": "d5ed3eb7-705d-4b5e-c107-c37df4ec8296"
      },
      "execution_count": null,
      "outputs": [
        {
          "output_type": "stream",
          "name": "stdout",
          "text": [
            "{'model__estimator': XGBClassifier(n_estimators=50), 'model__estimator__n_estimators': 50}\n"
          ]
        }
      ]
    },
    {
      "cell_type": "code",
      "source": [],
      "metadata": {
        "id": "pWeFyAXTVK5e"
      },
      "execution_count": null,
      "outputs": []
    },
    {
      "cell_type": "code",
      "source": [
        "# Save gs result\n",
        "\n",
        "\n",
        "from datetime import datetime\n",
        "def savepickle(model,filename,path=None,append_version=False):\n",
        "    \"\"\"\n",
        "    Export object as a pickle.\n",
        "    Parameters:\n",
        "    - model: Model variable name.\n",
        "    - filename: Root of the filename.\n",
        "    - filepath (raw string): Use the format r'<path>'. If None, file is saved in same director.\n",
        "    - append_version (bool): If true, append date and time to end of filename.\n",
        "    \"\"\"\n",
        "    if path:\n",
        "        path = f'{path}/'.replace('\\\\','/')\n",
        "    if append_version == True:\n",
        "        filename+=datetime.now().strftime('%Y-%m-%d_%H%M')\n",
        "    with open (path+filename, 'wb') as fh:\n",
        "        pickle.dump(model, fh)\n",
        "    print('File saved: ',path+filename)\n",
        "\n",
        "path=r'drive/MyDrive/data exercises'\n",
        "filename = 'grid_search_result.sav' \n",
        "savepickle(y_pred_train,filename,path=path, append_version=True)"
      ],
      "metadata": {
        "colab": {
          "base_uri": "https://localhost:8080/"
        },
        "id": "qHHDWkU5Xh6X",
        "outputId": "ce33efe3-50ff-4859-8f84-e96c037d5820"
      },
      "execution_count": null,
      "outputs": [
        {
          "output_type": "stream",
          "name": "stdout",
          "text": [
            "File saved:  drive/MyDrive/data exercises/grid_search_result.sav2022-11-18_0435\n"
          ]
        }
      ]
    },
    {
      "cell_type": "markdown",
      "source": [
        "## Function: Evaluate Classifier "
      ],
      "metadata": {
        "id": "j09enVxHWrdB"
      }
    },
    {
      "cell_type": "code",
      "source": [
        "# Updated 2022-11-18 10:45 so roc score prints even if classification dtypes are float.\n",
        "# Updated so that y_pred_train is passed instead of X_train to avoid having to refit the model.\n",
        "from sklearn.metrics import ConfusionMatrixDisplay, RocCurveDisplay, accuracy_score, f1_score, precision_score, recall_score, roc_auc_score\n",
        "\n",
        "def evaluate_classifier(classifier, X_test, y_test, y_train, y_pred_train, pos_label=1,model_name='classifier', confusion_matrix=True):\n",
        "    \"\"\"\n",
        "    Print evaluation metrics of the classifier. Classifier should be fit prior to calling this function.\n",
        "        * recall\n",
        "        * precision\n",
        "        * F1\n",
        "        * AUC score (only if class labels are integers)\n",
        "    Plot:\n",
        "        * confusion matrix\n",
        "        * ROC (only if class labels are integers)\n",
        "    Parameters:\n",
        "    - pos_label (str or int): Class label for positive class. Default is 1.\n",
        "    - model_name (string, optional): Name of model printing purposes.\n",
        "    - confusion_matrix (bool): If True (default), print the confusion matrix. \n",
        "\n",
        "    Returns 2 dictionaries:\n",
        "    - evaluation metrics for test data\n",
        "    - evaluation metrics train data set\n",
        "    \"\"\"\n",
        "    \n",
        "    best_model = classifier\n",
        "    print(best_model.best_estimator_)\n",
        "\n",
        "    y_pred = best_model.predict(X_test)\n",
        "\n",
        "    # y_pred_train = best_model.predict(X_train)\n",
        "\n",
        "    # Metrics for test data\n",
        "    metrics = dict()\n",
        "    if len(set(y_test)) == 2:\n",
        "        recall = recall_score(y_test, y_pred, pos_label=pos_label)\n",
        "        precision = precision_score(y_test, y_pred, pos_label=pos_label)\n",
        "        f1score = f1_score(y_test, y_pred, pos_label=pos_label)\n",
        "        metrics['recall'] = recall\n",
        "        metrics['precision'] = precision\n",
        "        metrics['f1'] = f1score\n",
        "\n",
        "    accuracy = accuracy_score(y_test, y_pred)\n",
        "    metrics['accuracy'] = accuracy\n",
        "\n",
        "    # Metrics for training data\n",
        "    metrics_train = dict()\n",
        "    if len(set(y_test)) == 2:\n",
        "        recall_train = recall_score(y_train, y_pred_train, pos_label=pos_label)\n",
        "        precision_train = precision_score(y_train, y_pred_train, pos_label=pos_label)\n",
        "        f1score_train = f1_score(y_train, y_pred_train, pos_label=pos_label)\n",
        "        metrics_train['recall'] = recall_train\n",
        "        metrics_train['precision'] = precision_train\n",
        "        metrics_train['f1'] = f1score_train\n",
        "    accuracy_train = accuracy_score(y_train, y_pred_train)\n",
        "    metrics_train['accuracy'] = accuracy_train\n",
        "\n",
        "    print(f'\\n{model_name} evaluation metrics: \\n\\tTest data\\tTraining data\\t\\tDifference')\n",
        "    print(f'Accuracy: \\t{100*accuracy:.2f}%\\t\\t{100*accuracy_train:.2f}%\\t\\t{100*(accuracy-accuracy_train):.2f}%')\n",
        "    if len(set(y_test)) == 2:\n",
        "        print(f'Recall: \\t{100*recall:.2f}%\\t\\t{100*recall_train:.2f}%\\t\\t{100*(recall-recall_train):.2f}%')\n",
        "        print(f'Precision: \\t{100*precision:.2f}%\\t\\t{100*precision_train:.2f}%\\t\\t{100*(precision-precision_train):.2f}%')\n",
        "        print(f'F1: \\t\\t{100*f1score:.2f}%\\t\\t{100*f1score_train:.2f}%\\t\\t{100*(f1score-f1score_train):.2f}%')\n",
        "        if (type(y_test) == 'int') | (type(y_test) == 'float'):\n",
        "            auc = roc_auc_score(y_test, y_pred)\n",
        "            auc_train = roc_auc_score(y_train, y_pred_train)\n",
        "            RocCurveDisplay.from_predictions(y_test, y_pred)\n",
        "            metrics['auc'] = auc\n",
        "            print(f'AUC: \\t\\t{100*auc:.2f}%\\t\\t{100*auc_train:.2f}%\\t\\t{100*(auc-auc_train):.2f}%')\n",
        "    if confusion_matrix==True:\n",
        "        ConfusionMatrixDisplay.from_predictions(y_test, y_pred)\n",
        "    return metrics, metrics_train, y_pred"
      ],
      "metadata": {
        "id": "PQdXVU7lcMMm"
      },
      "execution_count": null,
      "outputs": []
    },
    {
      "cell_type": "code",
      "source": [
        "y_pred_train"
      ],
      "metadata": {
        "colab": {
          "base_uri": "https://localhost:8080/"
        },
        "id": "OFw2dzmGAi6L",
        "outputId": "88815e4b-4d9b-4124-f7c7-aa5898625682"
      },
      "execution_count": null,
      "outputs": [
        {
          "output_type": "execute_result",
          "data": {
            "text/plain": [
              "GridSearchCV(estimator=Pipeline(steps=[('model', ClfSwitcher())]),\n",
              "             param_grid=[{'model__estimator': [XGBClassifier(n_estimators=50)],\n",
              "                          'model__estimator__n_estimators': [100, 50]},\n",
              "                         {'model__estimator': [RandomForestClassifier(random_state=0)],\n",
              "                          'model__estimator__n_estimators': [50, 100, 150]}],\n",
              "             scoring='accuracy')"
            ]
          },
          "metadata": {},
          "execution_count": 30
        }
      ]
    },
    {
      "cell_type": "code",
      "source": [
        "fit_gs_model = y_pred_train\n",
        "fit_gs_model.best_estimator_"
      ],
      "metadata": {
        "colab": {
          "base_uri": "https://localhost:8080/"
        },
        "id": "3-_OEu6TBcNl",
        "outputId": "51f4f9ac-2c7c-4349-e041-e669b0a74030"
      },
      "execution_count": null,
      "outputs": [
        {
          "output_type": "execute_result",
          "data": {
            "text/plain": [
              "Pipeline(steps=[('model',\n",
              "                 ClfSwitcher(estimator=XGBClassifier(n_estimators=50)))])"
            ]
          },
          "metadata": {},
          "execution_count": 35
        }
      ]
    },
    {
      "cell_type": "code",
      "source": [
        "# Transform X_test (~4000 samples in this run)\n",
        "X_test = process_pairs(df_test)\n",
        "\n",
        "path=r'drive/MyDrive/data exercises'\n",
        "filename = 'X_test.sav' \n",
        "savepickle(y_pred_train,filename,path=path, append_version=True)"
      ],
      "metadata": {
        "colab": {
          "base_uri": "https://localhost:8080/"
        },
        "id": "_7hkCZMgB-Gi",
        "outputId": "ee9c5b91-5a6d-49aa-e152-ea464a3b32b9"
      },
      "execution_count": null,
      "outputs": [
        {
          "output_type": "stream",
          "name": "stdout",
          "text": [
            "File saved:  drive/MyDrive/data exercises/X_test.sav2022-11-18_0440\n"
          ]
        }
      ]
    },
    {
      "cell_type": "code",
      "source": [
        "# Make predictions for X_train\n",
        "y_pred_train = gs.predict(X_train)\n",
        "y_pred_train"
      ],
      "metadata": {
        "colab": {
          "base_uri": "https://localhost:8080/"
        },
        "id": "_9tsOlOMCw0-",
        "outputId": "9f21ab75-8bae-4195-fd59-97c7e484a215"
      },
      "execution_count": null,
      "outputs": [
        {
          "output_type": "execute_result",
          "data": {
            "text/plain": [
              "array([0, 0, 0, ..., 0, 0, 0])"
            ]
          },
          "metadata": {},
          "execution_count": 46
        }
      ]
    },
    {
      "cell_type": "code",
      "source": [
        "gs"
      ],
      "metadata": {
        "colab": {
          "base_uri": "https://localhost:8080/"
        },
        "id": "c5PvnUJeD_Et",
        "outputId": "f2866ccf-2803-4b11-cde7-f9ff9af4c568"
      },
      "execution_count": null,
      "outputs": [
        {
          "output_type": "execute_result",
          "data": {
            "text/plain": [
              "GridSearchCV(estimator=Pipeline(steps=[('model', ClfSwitcher())]),\n",
              "             param_grid=[{'model__estimator': [XGBClassifier(n_estimators=50)],\n",
              "                          'model__estimator__n_estimators': [100, 50]},\n",
              "                         {'model__estimator': [RandomForestClassifier(random_state=0)],\n",
              "                          'model__estimator__n_estimators': [50, 100, 150]}],\n",
              "             scoring='accuracy')"
            ]
          },
          "metadata": {},
          "execution_count": 50
        }
      ]
    },
    {
      "cell_type": "code",
      "source": [
        "# Make predictions for X_test\n",
        "y_pred_test = gs.predict(X_test)\n",
        "y_pred_test"
      ],
      "metadata": {
        "colab": {
          "base_uri": "https://localhost:8080/"
        },
        "id": "mv9gWrKjErBH",
        "outputId": "06fb358f-4b32-4509-ae9f-41649872a8b7"
      },
      "execution_count": null,
      "outputs": [
        {
          "output_type": "execute_result",
          "data": {
            "text/plain": [
              "array([0, 0, 0, ..., 0, 0, 0])"
            ]
          },
          "metadata": {},
          "execution_count": 58
        }
      ]
    },
    {
      "cell_type": "code",
      "source": [
        "sum(y_pred_test)"
      ],
      "metadata": {
        "colab": {
          "base_uri": "https://localhost:8080/"
        },
        "id": "qEfWgbWMGMNl",
        "outputId": "82471bda-8bd9-4bfd-a54f-6304a1a3a0fc"
      },
      "execution_count": null,
      "outputs": [
        {
          "output_type": "execute_result",
          "data": {
            "text/plain": [
              "0"
            ]
          },
          "metadata": {},
          "execution_count": 59
        }
      ]
    },
    {
      "cell_type": "code",
      "source": [
        "sum(y_test)"
      ],
      "metadata": {
        "colab": {
          "base_uri": "https://localhost:8080/"
        },
        "id": "tiV7x64hG0e_",
        "outputId": "44f64313-0ecb-4188-8b88-143938838291"
      },
      "execution_count": null,
      "outputs": [
        {
          "output_type": "execute_result",
          "data": {
            "text/plain": [
              "29853"
            ]
          },
          "metadata": {},
          "execution_count": 63
        }
      ]
    },
    {
      "cell_type": "code",
      "source": [
        "# Evaluate\n",
        "metrics, metrics_train, y_pred = evaluate_classifier(gs, X_test, y_test, y_train, y_pred_train, pos_label=1,model_name='XGBClassifier')"
      ],
      "metadata": {
        "colab": {
          "base_uri": "https://localhost:8080/",
          "height": 455
        },
        "id": "LSgK_9AscMJV",
        "outputId": "9b7c7552-465b-4f0f-8899-ab7f0880144c"
      },
      "execution_count": null,
      "outputs": [
        {
          "output_type": "stream",
          "name": "stderr",
          "text": [
            "/usr/local/lib/python3.7/dist-packages/sklearn/metrics/_classification.py:1318: UndefinedMetricWarning: Precision is ill-defined and being set to 0.0 due to no predicted samples. Use `zero_division` parameter to control this behavior.\n",
            "  _warn_prf(average, modifier, msg_start, len(result))\n"
          ]
        },
        {
          "output_type": "stream",
          "name": "stdout",
          "text": [
            "\n",
            "XGBClassifier evaluation metrics: \n",
            "\tTest data\tTraining data\t\tDifference\n",
            "Accuracy: \t63.94%\t\t63.08%\t\t0.86%\n",
            "Recall: \t0.00%\t\t0.00%\t\t-0.00%\n",
            "Precision: \t0.00%\t\t75.00%\t\t-75.00%\n",
            "F1: \t\t0.00%\t\t0.01%\t\t-0.01%\n"
          ]
        },
        {
          "output_type": "display_data",
          "data": {
            "text/plain": [
              "<Figure size 432x288 with 2 Axes>"
            ],
            "image/png": "[encoded data removed]"
          },
          "metadata": {
            "needs_background": "light"
          }
        }
      ]
    },
    {
      "cell_type": "code",
      "source": [
        "metrics"
      ],
      "metadata": {
        "colab": {
          "base_uri": "https://localhost:8080/"
        },
        "id": "wyoR2k-bcMGn",
        "outputId": "0418e18b-db7d-469b-a884-258e39a29d24"
      },
      "execution_count": null,
      "outputs": [
        {
          "output_type": "execute_result",
          "data": {
            "text/plain": [
              "{'recall': 0.0, 'precision': 0.0, 'f1': 0.0, 'accuracy': 0.6393767004699481}"
            ]
          },
          "metadata": {},
          "execution_count": 64
        }
      ]
    },
    {
      "cell_type": "markdown",
      "source": [],
      "metadata": {
        "id": "01-uvc3ZHI4f"
      }
    },
    {
      "cell_type": "markdown",
      "source": [
        "# Iteration 2"
      ],
      "metadata": {
        "id": "Gr_wO9wCHPti"
      }
    },
    {
      "cell_type": "code",
      "source": [
        "forest_pipe = Pipeline([\n",
        "    # ('process_pairs', FunctionTransformer(process_pairs)),\n",
        "    ('model', ClfSwitcher())\n",
        "])\n",
        "\n",
        "grid_params = [\n",
        "    {\n",
        "        'model__estimator': [xgb.XGBClassifier(random_state=0)],\n",
        "        # 'model__estimator__n_estimators': [100, 50]\n",
        "        },\n",
        "    {\n",
        "        'model__estimator': [RandomForestClassifier(random_state=0)],\n",
        "        'model__estimator__n_estimators': [50, 100, 150],\n",
        "        'model__estimator__min_samples_leaf' : [3, 4, 5, 6]\n",
        "        },\n",
        "    ]\n",
        "gs2 = GridSearchCV(forest_pipe, grid_params, scoring='accuracy')\n",
        "gs2.fit(X_train, y_train)\n",
        "print(gs2.best_params_)\n",
        "gs2"
      ],
      "metadata": {
        "colab": {
          "base_uri": "https://localhost:8080/"
        },
        "id": "weZXZeErcMEW",
        "outputId": "b7426834-e5f9-4c8c-caca-13f63de74798"
      },
      "execution_count": null,
      "outputs": [
        {
          "output_type": "stream",
          "name": "stdout",
          "text": [
            "{'model__estimator': XGBClassifier()}\n"
          ]
        },
        {
          "output_type": "execute_result",
          "data": {
            "text/plain": [
              "GridSearchCV(estimator=Pipeline(steps=[('model', ClfSwitcher())]),\n",
              "             param_grid=[{'model__estimator': [XGBClassifier()]},\n",
              "                         {'model__estimator': [RandomForestClassifier(random_state=0)],\n",
              "                          'model__estimator__min_samples_leaf': [3, 4, 5, 6],\n",
              "                          'model__estimator__n_estimators': [50, 100, 150]}],\n",
              "             scoring='accuracy')"
            ]
          },
          "metadata": {},
          "execution_count": 68
        }
      ]
    },
    {
      "cell_type": "code",
      "source": [
        "path=r'drive/MyDrive/data exercises'\n",
        "filename = 'grid_search2_result.sav' \n",
        "savepickle(gs2,filename,path=path, append_version=True)"
      ],
      "metadata": {
        "colab": {
          "base_uri": "https://localhost:8080/"
        },
        "id": "hxuqIJb1cMB1",
        "outputId": "3229d787-e4b1-4bea-9515-9c4b9979fc45"
      },
      "execution_count": null,
      "outputs": [
        {
          "output_type": "stream",
          "name": "stdout",
          "text": [
            "File saved:  drive/MyDrive/data exercises/grid_search2_result.sav2022-11-18_0544\n"
          ]
        }
      ]
    },
    {
      "cell_type": "code",
      "source": [
        "# y_pred_train\n",
        "y_pred_train2 = gs2.predict(X_train)\n",
        "sum(y_pred_train2)"
      ],
      "metadata": {
        "colab": {
          "base_uri": "https://localhost:8080/"
        },
        "id": "U-YzRBMJNbdc",
        "outputId": "f4045c91-ed2a-411f-f267-e10f59ddef2d"
      },
      "execution_count": null,
      "outputs": [
        {
          "output_type": "execute_result",
          "data": {
            "text/plain": [
              "85"
            ]
          },
          "metadata": {},
          "execution_count": 83
        }
      ]
    },
    {
      "cell_type": "code",
      "source": [],
      "metadata": {
        "id": "MeM5sfyeYJ0Y"
      },
      "execution_count": null,
      "outputs": []
    },
    {
      "cell_type": "code",
      "source": [
        "# Bigger X_test ; \n",
        "X_test = process_pairs(df_test)\n",
        "print(X_test.shape) # 2022-11-18 7:53 Saved incorrectly"
      ],
      "metadata": {
        "id": "1SdSSZQrXXSw"
      },
      "execution_count": null,
      "outputs": []
    },
    {
      "cell_type": "code",
      "source": [
        "\n",
        "path=r'drive/MyDrive/data exercises'\n",
        "filename = 'X_test.sav' \n",
        "savepickle(y_pred_train,filename,path=path, append_version=True) # 2022-11-18 7:53 Saved incorrectly"
      ],
      "metadata": {
        "colab": {
          "base_uri": "https://localhost:8080/"
        },
        "id": "2-FlFhq9W3GI",
        "outputId": "6fb7278c-ca0b-4856-bec5-65016ee05330"
      },
      "execution_count": null,
      "outputs": [
        {
          "output_type": "stream",
          "name": "stdout",
          "text": [
            "File saved:  drive/MyDrive/data exercises/X_test.sav2022-11-18_0616\n"
          ]
        }
      ]
    },
    {
      "cell_type": "code",
      "source": [
        "print(y_test.shape)"
      ],
      "metadata": {
        "colab": {
          "base_uri": "https://localhost:8080/"
        },
        "id": "Iqk3iI01YjN_",
        "outputId": "3773fe1c-d762-4c47-9236-e9530779daed"
      },
      "execution_count": null,
      "outputs": [
        {
          "output_type": "stream",
          "name": "stdout",
          "text": [
            "(80859,)\n"
          ]
        }
      ]
    },
    {
      "cell_type": "code",
      "source": [
        "metrics2, metrics_train2, y_pred2 = evaluate_classifier(gs2, X_test, y_test, y_train, y_pred_train2, pos_label=1,model_name='XGBClassifier')"
      ],
      "metadata": {
        "colab": {
          "base_uri": "https://localhost:8080/",
          "height": 400
        },
        "id": "QLX4hGoPWESu",
        "outputId": "f631584a-721b-47ca-bfe6-4868a21853e4"
      },
      "execution_count": null,
      "outputs": [
        {
          "output_type": "stream",
          "name": "stdout",
          "text": [
            "\n",
            "XGBClassifier evaluation metrics: \n",
            "\tTest data\tTraining data\t\tDifference\n",
            "Accuracy: \t63.06%\t\t63.07%\t\t-0.02%\n",
            "Recall: \t0.00%\t\t0.03%\t\t-0.03%\n",
            "Precision: \t0.00%\t\t35.29%\t\t-35.29%\n",
            "F1: \t\t0.00%\t\t0.05%\t\t-0.05%\n"
          ]
        },
        {
          "output_type": "display_data",
          "data": {
            "text/plain": [
              "<Figure size 432x288 with 2 Axes>"
            ],
            "image/png": "[encoded data removed]"
          },
          "metadata": {
            "needs_background": "light"
          }
        }
      ]
    },
    {
      "cell_type": "markdown",
      "source": [
        "# Iteration 3: \n",
        "* Different scoring metrics\n",
        "* Account for class imbalance"
      ],
      "metadata": {
        "id": "CUyrzKebL_bH"
      }
    },
    {
      "cell_type": "code",
      "source": [
        "forest_pipe = Pipeline([\n",
        "    ('model', ClfSwitcher())\n",
        "  ])\n",
        "scoring = {\"AUC\": \"roc_auc\", \"recall\": 'recall'}\n",
        "grid_params = [\n",
        "    {\n",
        "        'model__estimator': [RandomForestClassifier(random_state=0)],\n",
        "        'model__estimator__n_estimators': [50, 100, 150],\n",
        "        # 'model__estimator__min_samples_leaf' : [3, 4, 5, 6],\n",
        "        'model__estimator__class_weight' : [None, 'balanced']\n",
        "        },\n",
        "    ]\n",
        "\n",
        "gs3 = GridSearchCV(forest_pipe, grid_params, scoring='roc_auc')\n",
        "gs3.fit(X_train, y_train)\n",
        "print(gs3.best_params_)\n",
        "\n",
        "path=r'drive/MyDrive/data exercises'\n",
        "filename = 'grid_search3_result.sav' \n",
        "savepickle(gs3,filename,path=path, append_version=True)"
      ],
      "metadata": {
        "colab": {
          "base_uri": "https://localhost:8080/"
        },
        "id": "hrAbjk_6cL-p",
        "outputId": "90bf56ca-de22-40cb-ad10-61d4e68fabb4"
      },
      "execution_count": null,
      "outputs": [
        {
          "output_type": "stream",
          "name": "stderr",
          "text": [
            "/usr/local/lib/python3.7/dist-packages/sklearn/model_selection/_validation.py:774: UserWarning: Scoring failed. The score on this train-test partition for these parameters will be set to nan. Details: \n",
            "Traceback (most recent call last):\n",
            "  File \"/usr/local/lib/python3.7/dist-packages/sklearn/metrics/_scorer.py\", line 355, in _score\n",
            "    y_pred = method_caller(clf, \"decision_function\", X)\n",
            "  File \"/usr/local/lib/python3.7/dist-packages/sklearn/metrics/_scorer.py\", line 68, in _cached_call\n",
            "    return getattr(estimator, method)(*args, **kwargs)\n",
            "  File \"/usr/local/lib/python3.7/dist-packages/sklearn/utils/metaestimators.py\", line 109, in __get__\n",
            "    if not self.check(obj):\n",
            "  File \"/usr/local/lib/python3.7/dist-packages/sklearn/pipeline.py\", line 45, in check\n",
            "    getattr(self._final_estimator, attr)\n",
            "AttributeError: 'ClfSwitcher' object has no attribute 'decision_function'\n",
            "\n",
            "During handling of the above exception, another exception occurred:\n",
            "\n",
            "Traceback (most recent call last):\n",
            "  File \"/usr/local/lib/python3.7/dist-packages/sklearn/model_selection/_validation.py\", line 761, in _score\n",
            "    scores = scorer(estimator, X_test, y_test)\n",
            "  File \"/usr/local/lib/python3.7/dist-packages/sklearn/metrics/_scorer.py\", line 221, in __call__\n",
            "    sample_weight=sample_weight,\n",
            "  File \"/usr/local/lib/python3.7/dist-packages/sklearn/metrics/_scorer.py\", line 372, in _score\n",
            "    y_pred = self._select_proba_binary(y_pred, clf.classes_)\n",
            "  File \"/usr/local/lib/python3.7/dist-packages/sklearn/pipeline.py\", line 716, in classes_\n",
            "    return self.steps[-1][1].classes_\n",
            "AttributeError: 'ClfSwitcher' object has no attribute 'classes_'\n",
            "\n",
            "  UserWarning,\n",
            "/usr/local/lib/python3.7/dist-packages/sklearn/model_selection/_validation.py:774: UserWarning: Scoring failed. The score on this train-test partition for these parameters will be set to nan. Details: \n",
            "Traceback (most recent call last):\n",
            "  File \"/usr/local/lib/python3.7/dist-packages/sklearn/metrics/_scorer.py\", line 355, in _score\n",
            "    y_pred = method_caller(clf, \"decision_function\", X)\n",
            "  File \"/usr/local/lib/python3.7/dist-packages/sklearn/metrics/_scorer.py\", line 68, in _cached_call\n",
            "    return getattr(estimator, method)(*args, **kwargs)\n",
            "  File \"/usr/local/lib/python3.7/dist-packages/sklearn/utils/metaestimators.py\", line 109, in __get__\n",
            "    if not self.check(obj):\n",
            "  File \"/usr/local/lib/python3.7/dist-packages/sklearn/pipeline.py\", line 45, in check\n",
            "    getattr(self._final_estimator, attr)\n",
            "AttributeError: 'ClfSwitcher' object has no attribute 'decision_function'\n",
            "\n",
            "During handling of the above exception, another exception occurred:\n",
            "\n",
            "Traceback (most recent call last):\n",
            "  File \"/usr/local/lib/python3.7/dist-packages/sklearn/model_selection/_validation.py\", line 761, in _score\n",
            "    scores = scorer(estimator, X_test, y_test)\n",
            "  File \"/usr/local/lib/python3.7/dist-packages/sklearn/metrics/_scorer.py\", line 221, in __call__\n",
            "    sample_weight=sample_weight,\n",
            "  File \"/usr/local/lib/python3.7/dist-packages/sklearn/metrics/_scorer.py\", line 372, in _score\n",
            "    y_pred = self._select_proba_binary(y_pred, clf.classes_)\n",
            "  File \"/usr/local/lib/python3.7/dist-packages/sklearn/pipeline.py\", line 716, in classes_\n",
            "    return self.steps[-1][1].classes_\n",
            "AttributeError: 'ClfSwitcher' object has no attribute 'classes_'\n",
            "\n",
            "  UserWarning,\n",
            "/usr/local/lib/python3.7/dist-packages/sklearn/model_selection/_validation.py:774: UserWarning: Scoring failed. The score on this train-test partition for these parameters will be set to nan. Details: \n",
            "Traceback (most recent call last):\n",
            "  File \"/usr/local/lib/python3.7/dist-packages/sklearn/metrics/_scorer.py\", line 355, in _score\n",
            "    y_pred = method_caller(clf, \"decision_function\", X)\n",
            "  File \"/usr/local/lib/python3.7/dist-packages/sklearn/metrics/_scorer.py\", line 68, in _cached_call\n",
            "    return getattr(estimator, method)(*args, **kwargs)\n",
            "  File \"/usr/local/lib/python3.7/dist-packages/sklearn/utils/metaestimators.py\", line 109, in __get__\n",
            "    if not self.check(obj):\n",
            "  File \"/usr/local/lib/python3.7/dist-packages/sklearn/pipeline.py\", line 45, in check\n",
            "    getattr(self._final_estimator, attr)\n",
            "AttributeError: 'ClfSwitcher' object has no attribute 'decision_function'\n",
            "\n",
            "During handling of the above exception, another exception occurred:\n",
            "\n",
            "Traceback (most recent call last):\n",
            "  File \"/usr/local/lib/python3.7/dist-packages/sklearn/model_selection/_validation.py\", line 761, in _score\n",
            "    scores = scorer(estimator, X_test, y_test)\n",
            "  File \"/usr/local/lib/python3.7/dist-packages/sklearn/metrics/_scorer.py\", line 221, in __call__\n",
            "    sample_weight=sample_weight,\n",
            "  File \"/usr/local/lib/python3.7/dist-packages/sklearn/metrics/_scorer.py\", line 372, in _score\n",
            "    y_pred = self._select_proba_binary(y_pred, clf.classes_)\n",
            "  File \"/usr/local/lib/python3.7/dist-packages/sklearn/pipeline.py\", line 716, in classes_\n",
            "    return self.steps[-1][1].classes_\n",
            "AttributeError: 'ClfSwitcher' object has no attribute 'classes_'\n",
            "\n",
            "  UserWarning,\n",
            "/usr/local/lib/python3.7/dist-packages/sklearn/model_selection/_validation.py:774: UserWarning: Scoring failed. The score on this train-test partition for these parameters will be set to nan. Details: \n",
            "Traceback (most recent call last):\n",
            "  File \"/usr/local/lib/python3.7/dist-packages/sklearn/metrics/_scorer.py\", line 355, in _score\n",
            "    y_pred = method_caller(clf, \"decision_function\", X)\n",
            "  File \"/usr/local/lib/python3.7/dist-packages/sklearn/metrics/_scorer.py\", line 68, in _cached_call\n",
            "    return getattr(estimator, method)(*args, **kwargs)\n",
            "  File \"/usr/local/lib/python3.7/dist-packages/sklearn/utils/metaestimators.py\", line 109, in __get__\n",
            "    if not self.check(obj):\n",
            "  File \"/usr/local/lib/python3.7/dist-packages/sklearn/pipeline.py\", line 45, in check\n",
            "    getattr(self._final_estimator, attr)\n",
            "AttributeError: 'ClfSwitcher' object has no attribute 'decision_function'\n",
            "\n",
            "During handling of the above exception, another exception occurred:\n",
            "\n",
            "Traceback (most recent call last):\n",
            "  File \"/usr/local/lib/python3.7/dist-packages/sklearn/model_selection/_validation.py\", line 761, in _score\n",
            "    scores = scorer(estimator, X_test, y_test)\n",
            "  File \"/usr/local/lib/python3.7/dist-packages/sklearn/metrics/_scorer.py\", line 221, in __call__\n",
            "    sample_weight=sample_weight,\n",
            "  File \"/usr/local/lib/python3.7/dist-packages/sklearn/metrics/_scorer.py\", line 372, in _score\n",
            "    y_pred = self._select_proba_binary(y_pred, clf.classes_)\n",
            "  File \"/usr/local/lib/python3.7/dist-packages/sklearn/pipeline.py\", line 716, in classes_\n",
            "    return self.steps[-1][1].classes_\n",
            "AttributeError: 'ClfSwitcher' object has no attribute 'classes_'\n",
            "\n",
            "  UserWarning,\n",
            "/usr/local/lib/python3.7/dist-packages/sklearn/model_selection/_validation.py:774: UserWarning: Scoring failed. The score on this train-test partition for these parameters will be set to nan. Details: \n",
            "Traceback (most recent call last):\n",
            "  File \"/usr/local/lib/python3.7/dist-packages/sklearn/metrics/_scorer.py\", line 355, in _score\n",
            "    y_pred = method_caller(clf, \"decision_function\", X)\n",
            "  File \"/usr/local/lib/python3.7/dist-packages/sklearn/metrics/_scorer.py\", line 68, in _cached_call\n",
            "    return getattr(estimator, method)(*args, **kwargs)\n",
            "  File \"/usr/local/lib/python3.7/dist-packages/sklearn/utils/metaestimators.py\", line 109, in __get__\n",
            "    if not self.check(obj):\n",
            "  File \"/usr/local/lib/python3.7/dist-packages/sklearn/pipeline.py\", line 45, in check\n",
            "    getattr(self._final_estimator, attr)\n",
            "AttributeError: 'ClfSwitcher' object has no attribute 'decision_function'\n",
            "\n",
            "During handling of the above exception, another exception occurred:\n",
            "\n",
            "Traceback (most recent call last):\n",
            "  File \"/usr/local/lib/python3.7/dist-packages/sklearn/model_selection/_validation.py\", line 761, in _score\n",
            "    scores = scorer(estimator, X_test, y_test)\n",
            "  File \"/usr/local/lib/python3.7/dist-packages/sklearn/metrics/_scorer.py\", line 221, in __call__\n",
            "    sample_weight=sample_weight,\n",
            "  File \"/usr/local/lib/python3.7/dist-packages/sklearn/metrics/_scorer.py\", line 372, in _score\n",
            "    y_pred = self._select_proba_binary(y_pred, clf.classes_)\n",
            "  File \"/usr/local/lib/python3.7/dist-packages/sklearn/pipeline.py\", line 716, in classes_\n",
            "    return self.steps[-1][1].classes_\n",
            "AttributeError: 'ClfSwitcher' object has no attribute 'classes_'\n",
            "\n",
            "  UserWarning,\n",
            "/usr/local/lib/python3.7/dist-packages/sklearn/model_selection/_validation.py:774: UserWarning: Scoring failed. The score on this train-test partition for these parameters will be set to nan. Details: \n",
            "Traceback (most recent call last):\n",
            "  File \"/usr/local/lib/python3.7/dist-packages/sklearn/metrics/_scorer.py\", line 355, in _score\n",
            "    y_pred = method_caller(clf, \"decision_function\", X)\n",
            "  File \"/usr/local/lib/python3.7/dist-packages/sklearn/metrics/_scorer.py\", line 68, in _cached_call\n",
            "    return getattr(estimator, method)(*args, **kwargs)\n",
            "  File \"/usr/local/lib/python3.7/dist-packages/sklearn/utils/metaestimators.py\", line 109, in __get__\n",
            "    if not self.check(obj):\n",
            "  File \"/usr/local/lib/python3.7/dist-packages/sklearn/pipeline.py\", line 45, in check\n",
            "    getattr(self._final_estimator, attr)\n",
            "AttributeError: 'ClfSwitcher' object has no attribute 'decision_function'\n",
            "\n",
            "During handling of the above exception, another exception occurred:\n",
            "\n",
            "Traceback (most recent call last):\n",
            "  File \"/usr/local/lib/python3.7/dist-packages/sklearn/model_selection/_validation.py\", line 761, in _score\n",
            "    scores = scorer(estimator, X_test, y_test)\n",
            "  File \"/usr/local/lib/python3.7/dist-packages/sklearn/metrics/_scorer.py\", line 221, in __call__\n",
            "    sample_weight=sample_weight,\n",
            "  File \"/usr/local/lib/python3.7/dist-packages/sklearn/metrics/_scorer.py\", line 372, in _score\n",
            "    y_pred = self._select_proba_binary(y_pred, clf.classes_)\n",
            "  File \"/usr/local/lib/python3.7/dist-packages/sklearn/pipeline.py\", line 716, in classes_\n",
            "    return self.steps[-1][1].classes_\n",
            "AttributeError: 'ClfSwitcher' object has no attribute 'classes_'\n",
            "\n",
            "  UserWarning,\n",
            "/usr/local/lib/python3.7/dist-packages/sklearn/model_selection/_validation.py:774: UserWarning: Scoring failed. The score on this train-test partition for these parameters will be set to nan. Details: \n",
            "Traceback (most recent call last):\n",
            "  File \"/usr/local/lib/python3.7/dist-packages/sklearn/metrics/_scorer.py\", line 355, in _score\n",
            "    y_pred = method_caller(clf, \"decision_function\", X)\n",
            "  File \"/usr/local/lib/python3.7/dist-packages/sklearn/metrics/_scorer.py\", line 68, in _cached_call\n",
            "    return getattr(estimator, method)(*args, **kwargs)\n",
            "  File \"/usr/local/lib/python3.7/dist-packages/sklearn/utils/metaestimators.py\", line 109, in __get__\n",
            "    if not self.check(obj):\n",
            "  File \"/usr/local/lib/python3.7/dist-packages/sklearn/pipeline.py\", line 45, in check\n",
            "    getattr(self._final_estimator, attr)\n",
            "AttributeError: 'ClfSwitcher' object has no attribute 'decision_function'\n",
            "\n",
            "During handling of the above exception, another exception occurred:\n",
            "\n",
            "Traceback (most recent call last):\n",
            "  File \"/usr/local/lib/python3.7/dist-packages/sklearn/model_selection/_validation.py\", line 761, in _score\n",
            "    scores = scorer(estimator, X_test, y_test)\n",
            "  File \"/usr/local/lib/python3.7/dist-packages/sklearn/metrics/_scorer.py\", line 221, in __call__\n",
            "    sample_weight=sample_weight,\n",
            "  File \"/usr/local/lib/python3.7/dist-packages/sklearn/metrics/_scorer.py\", line 372, in _score\n",
            "    y_pred = self._select_proba_binary(y_pred, clf.classes_)\n",
            "  File \"/usr/local/lib/python3.7/dist-packages/sklearn/pipeline.py\", line 716, in classes_\n",
            "    return self.steps[-1][1].classes_\n",
            "AttributeError: 'ClfSwitcher' object has no attribute 'classes_'\n",
            "\n",
            "  UserWarning,\n",
            "/usr/local/lib/python3.7/dist-packages/sklearn/model_selection/_validation.py:774: UserWarning: Scoring failed. The score on this train-test partition for these parameters will be set to nan. Details: \n",
            "Traceback (most recent call last):\n",
            "  File \"/usr/local/lib/python3.7/dist-packages/sklearn/metrics/_scorer.py\", line 355, in _score\n",
            "    y_pred = method_caller(clf, \"decision_function\", X)\n",
            "  File \"/usr/local/lib/python3.7/dist-packages/sklearn/metrics/_scorer.py\", line 68, in _cached_call\n",
            "    return getattr(estimator, method)(*args, **kwargs)\n",
            "  File \"/usr/local/lib/python3.7/dist-packages/sklearn/utils/metaestimators.py\", line 109, in __get__\n",
            "    if not self.check(obj):\n",
            "  File \"/usr/local/lib/python3.7/dist-packages/sklearn/pipeline.py\", line 45, in check\n",
            "    getattr(self._final_estimator, attr)\n",
            "AttributeError: 'ClfSwitcher' object has no attribute 'decision_function'\n",
            "\n",
            "During handling of the above exception, another exception occurred:\n",
            "\n",
            "Traceback (most recent call last):\n",
            "  File \"/usr/local/lib/python3.7/dist-packages/sklearn/model_selection/_validation.py\", line 761, in _score\n",
            "    scores = scorer(estimator, X_test, y_test)\n",
            "  File \"/usr/local/lib/python3.7/dist-packages/sklearn/metrics/_scorer.py\", line 221, in __call__\n",
            "    sample_weight=sample_weight,\n",
            "  File \"/usr/local/lib/python3.7/dist-packages/sklearn/metrics/_scorer.py\", line 372, in _score\n",
            "    y_pred = self._select_proba_binary(y_pred, clf.classes_)\n",
            "  File \"/usr/local/lib/python3.7/dist-packages/sklearn/pipeline.py\", line 716, in classes_\n",
            "    return self.steps[-1][1].classes_\n",
            "AttributeError: 'ClfSwitcher' object has no attribute 'classes_'\n",
            "\n",
            "  UserWarning,\n",
            "/usr/local/lib/python3.7/dist-packages/sklearn/model_selection/_validation.py:774: UserWarning: Scoring failed. The score on this train-test partition for these parameters will be set to nan. Details: \n",
            "Traceback (most recent call last):\n",
            "  File \"/usr/local/lib/python3.7/dist-packages/sklearn/metrics/_scorer.py\", line 355, in _score\n",
            "    y_pred = method_caller(clf, \"decision_function\", X)\n",
            "  File \"/usr/local/lib/python3.7/dist-packages/sklearn/metrics/_scorer.py\", line 68, in _cached_call\n",
            "    return getattr(estimator, method)(*args, **kwargs)\n",
            "  File \"/usr/local/lib/python3.7/dist-packages/sklearn/utils/metaestimators.py\", line 109, in __get__\n",
            "    if not self.check(obj):\n",
            "  File \"/usr/local/lib/python3.7/dist-packages/sklearn/pipeline.py\", line 45, in check\n",
            "    getattr(self._final_estimator, attr)\n",
            "AttributeError: 'ClfSwitcher' object has no attribute 'decision_function'\n",
            "\n",
            "During handling of the above exception, another exception occurred:\n",
            "\n",
            "Traceback (most recent call last):\n",
            "  File \"/usr/local/lib/python3.7/dist-packages/sklearn/model_selection/_validation.py\", line 761, in _score\n",
            "    scores = scorer(estimator, X_test, y_test)\n",
            "  File \"/usr/local/lib/python3.7/dist-packages/sklearn/metrics/_scorer.py\", line 221, in __call__\n",
            "    sample_weight=sample_weight,\n",
            "  File \"/usr/local/lib/python3.7/dist-packages/sklearn/metrics/_scorer.py\", line 372, in _score\n",
            "    y_pred = self._select_proba_binary(y_pred, clf.classes_)\n",
            "  File \"/usr/local/lib/python3.7/dist-packages/sklearn/pipeline.py\", line 716, in classes_\n",
            "    return self.steps[-1][1].classes_\n",
            "AttributeError: 'ClfSwitcher' object has no attribute 'classes_'\n",
            "\n",
            "  UserWarning,\n",
            "/usr/local/lib/python3.7/dist-packages/sklearn/model_selection/_validation.py:774: UserWarning: Scoring failed. The score on this train-test partition for these parameters will be set to nan. Details: \n",
            "Traceback (most recent call last):\n",
            "  File \"/usr/local/lib/python3.7/dist-packages/sklearn/metrics/_scorer.py\", line 355, in _score\n",
            "    y_pred = method_caller(clf, \"decision_function\", X)\n",
            "  File \"/usr/local/lib/python3.7/dist-packages/sklearn/metrics/_scorer.py\", line 68, in _cached_call\n",
            "    return getattr(estimator, method)(*args, **kwargs)\n",
            "  File \"/usr/local/lib/python3.7/dist-packages/sklearn/utils/metaestimators.py\", line 109, in __get__\n",
            "    if not self.check(obj):\n",
            "  File \"/usr/local/lib/python3.7/dist-packages/sklearn/pipeline.py\", line 45, in check\n",
            "    getattr(self._final_estimator, attr)\n",
            "AttributeError: 'ClfSwitcher' object has no attribute 'decision_function'\n",
            "\n",
            "During handling of the above exception, another exception occurred:\n",
            "\n",
            "Traceback (most recent call last):\n",
            "  File \"/usr/local/lib/python3.7/dist-packages/sklearn/model_selection/_validation.py\", line 761, in _score\n",
            "    scores = scorer(estimator, X_test, y_test)\n",
            "  File \"/usr/local/lib/python3.7/dist-packages/sklearn/metrics/_scorer.py\", line 221, in __call__\n",
            "    sample_weight=sample_weight,\n",
            "  File \"/usr/local/lib/python3.7/dist-packages/sklearn/metrics/_scorer.py\", line 372, in _score\n",
            "    y_pred = self._select_proba_binary(y_pred, clf.classes_)\n",
            "  File \"/usr/local/lib/python3.7/dist-packages/sklearn/pipeline.py\", line 716, in classes_\n",
            "    return self.steps[-1][1].classes_\n",
            "AttributeError: 'ClfSwitcher' object has no attribute 'classes_'\n",
            "\n",
            "  UserWarning,\n",
            "/usr/local/lib/python3.7/dist-packages/sklearn/model_selection/_validation.py:774: UserWarning: Scoring failed. The score on this train-test partition for these parameters will be set to nan. Details: \n",
            "Traceback (most recent call last):\n",
            "  File \"/usr/local/lib/python3.7/dist-packages/sklearn/metrics/_scorer.py\", line 355, in _score\n",
            "    y_pred = method_caller(clf, \"decision_function\", X)\n",
            "  File \"/usr/local/lib/python3.7/dist-packages/sklearn/metrics/_scorer.py\", line 68, in _cached_call\n",
            "    return getattr(estimator, method)(*args, **kwargs)\n",
            "  File \"/usr/local/lib/python3.7/dist-packages/sklearn/utils/metaestimators.py\", line 109, in __get__\n",
            "    if not self.check(obj):\n",
            "  File \"/usr/local/lib/python3.7/dist-packages/sklearn/pipeline.py\", line 45, in check\n",
            "    getattr(self._final_estimator, attr)\n",
            "AttributeError: 'ClfSwitcher' object has no attribute 'decision_function'\n",
            "\n",
            "During handling of the above exception, another exception occurred:\n",
            "\n",
            "Traceback (most recent call last):\n",
            "  File \"/usr/local/lib/python3.7/dist-packages/sklearn/model_selection/_validation.py\", line 761, in _score\n",
            "    scores = scorer(estimator, X_test, y_test)\n",
            "  File \"/usr/local/lib/python3.7/dist-packages/sklearn/metrics/_scorer.py\", line 221, in __call__\n",
            "    sample_weight=sample_weight,\n",
            "  File \"/usr/local/lib/python3.7/dist-packages/sklearn/metrics/_scorer.py\", line 372, in _score\n",
            "    y_pred = self._select_proba_binary(y_pred, clf.classes_)\n",
            "  File \"/usr/local/lib/python3.7/dist-packages/sklearn/pipeline.py\", line 716, in classes_\n",
            "    return self.steps[-1][1].classes_\n",
            "AttributeError: 'ClfSwitcher' object has no attribute 'classes_'\n",
            "\n",
            "  UserWarning,\n",
            "/usr/local/lib/python3.7/dist-packages/sklearn/model_selection/_validation.py:774: UserWarning: Scoring failed. The score on this train-test partition for these parameters will be set to nan. Details: \n",
            "Traceback (most recent call last):\n",
            "  File \"/usr/local/lib/python3.7/dist-packages/sklearn/metrics/_scorer.py\", line 355, in _score\n",
            "    y_pred = method_caller(clf, \"decision_function\", X)\n",
            "  File \"/usr/local/lib/python3.7/dist-packages/sklearn/metrics/_scorer.py\", line 68, in _cached_call\n",
            "    return getattr(estimator, method)(*args, **kwargs)\n",
            "  File \"/usr/local/lib/python3.7/dist-packages/sklearn/utils/metaestimators.py\", line 109, in __get__\n",
            "    if not self.check(obj):\n",
            "  File \"/usr/local/lib/python3.7/dist-packages/sklearn/pipeline.py\", line 45, in check\n",
            "    getattr(self._final_estimator, attr)\n",
            "AttributeError: 'ClfSwitcher' object has no attribute 'decision_function'\n",
            "\n",
            "During handling of the above exception, another exception occurred:\n",
            "\n",
            "Traceback (most recent call last):\n",
            "  File \"/usr/local/lib/python3.7/dist-packages/sklearn/model_selection/_validation.py\", line 761, in _score\n",
            "    scores = scorer(estimator, X_test, y_test)\n",
            "  File \"/usr/local/lib/python3.7/dist-packages/sklearn/metrics/_scorer.py\", line 221, in __call__\n",
            "    sample_weight=sample_weight,\n",
            "  File \"/usr/local/lib/python3.7/dist-packages/sklearn/metrics/_scorer.py\", line 372, in _score\n",
            "    y_pred = self._select_proba_binary(y_pred, clf.classes_)\n",
            "  File \"/usr/local/lib/python3.7/dist-packages/sklearn/pipeline.py\", line 716, in classes_\n",
            "    return self.steps[-1][1].classes_\n",
            "AttributeError: 'ClfSwitcher' object has no attribute 'classes_'\n",
            "\n",
            "  UserWarning,\n",
            "/usr/local/lib/python3.7/dist-packages/sklearn/model_selection/_validation.py:774: UserWarning: Scoring failed. The score on this train-test partition for these parameters will be set to nan. Details: \n",
            "Traceback (most recent call last):\n",
            "  File \"/usr/local/lib/python3.7/dist-packages/sklearn/metrics/_scorer.py\", line 355, in _score\n",
            "    y_pred = method_caller(clf, \"decision_function\", X)\n",
            "  File \"/usr/local/lib/python3.7/dist-packages/sklearn/metrics/_scorer.py\", line 68, in _cached_call\n",
            "    return getattr(estimator, method)(*args, **kwargs)\n",
            "  File \"/usr/local/lib/python3.7/dist-packages/sklearn/utils/metaestimators.py\", line 109, in __get__\n",
            "    if not self.check(obj):\n",
            "  File \"/usr/local/lib/python3.7/dist-packages/sklearn/pipeline.py\", line 45, in check\n",
            "    getattr(self._final_estimator, attr)\n",
            "AttributeError: 'ClfSwitcher' object has no attribute 'decision_function'\n",
            "\n",
            "During handling of the above exception, another exception occurred:\n",
            "\n",
            "Traceback (most recent call last):\n",
            "  File \"/usr/local/lib/python3.7/dist-packages/sklearn/model_selection/_validation.py\", line 761, in _score\n",
            "    scores = scorer(estimator, X_test, y_test)\n",
            "  File \"/usr/local/lib/python3.7/dist-packages/sklearn/metrics/_scorer.py\", line 221, in __call__\n",
            "    sample_weight=sample_weight,\n",
            "  File \"/usr/local/lib/python3.7/dist-packages/sklearn/metrics/_scorer.py\", line 372, in _score\n",
            "    y_pred = self._select_proba_binary(y_pred, clf.classes_)\n",
            "  File \"/usr/local/lib/python3.7/dist-packages/sklearn/pipeline.py\", line 716, in classes_\n",
            "    return self.steps[-1][1].classes_\n",
            "AttributeError: 'ClfSwitcher' object has no attribute 'classes_'\n",
            "\n",
            "  UserWarning,\n",
            "/usr/local/lib/python3.7/dist-packages/sklearn/model_selection/_validation.py:774: UserWarning: Scoring failed. The score on this train-test partition for these parameters will be set to nan. Details: \n",
            "Traceback (most recent call last):\n",
            "  File \"/usr/local/lib/python3.7/dist-packages/sklearn/metrics/_scorer.py\", line 355, in _score\n",
            "    y_pred = method_caller(clf, \"decision_function\", X)\n",
            "  File \"/usr/local/lib/python3.7/dist-packages/sklearn/metrics/_scorer.py\", line 68, in _cached_call\n",
            "    return getattr(estimator, method)(*args, **kwargs)\n",
            "  File \"/usr/local/lib/python3.7/dist-packages/sklearn/utils/metaestimators.py\", line 109, in __get__\n",
            "    if not self.check(obj):\n",
            "  File \"/usr/local/lib/python3.7/dist-packages/sklearn/pipeline.py\", line 45, in check\n",
            "    getattr(self._final_estimator, attr)\n",
            "AttributeError: 'ClfSwitcher' object has no attribute 'decision_function'\n",
            "\n",
            "During handling of the above exception, another exception occurred:\n",
            "\n",
            "Traceback (most recent call last):\n",
            "  File \"/usr/local/lib/python3.7/dist-packages/sklearn/model_selection/_validation.py\", line 761, in _score\n",
            "    scores = scorer(estimator, X_test, y_test)\n",
            "  File \"/usr/local/lib/python3.7/dist-packages/sklearn/metrics/_scorer.py\", line 221, in __call__\n",
            "    sample_weight=sample_weight,\n",
            "  File \"/usr/local/lib/python3.7/dist-packages/sklearn/metrics/_scorer.py\", line 372, in _score\n",
            "    y_pred = self._select_proba_binary(y_pred, clf.classes_)\n",
            "  File \"/usr/local/lib/python3.7/dist-packages/sklearn/pipeline.py\", line 716, in classes_\n",
            "    return self.steps[-1][1].classes_\n",
            "AttributeError: 'ClfSwitcher' object has no attribute 'classes_'\n",
            "\n",
            "  UserWarning,\n",
            "/usr/local/lib/python3.7/dist-packages/sklearn/model_selection/_validation.py:774: UserWarning: Scoring failed. The score on this train-test partition for these parameters will be set to nan. Details: \n",
            "Traceback (most recent call last):\n",
            "  File \"/usr/local/lib/python3.7/dist-packages/sklearn/metrics/_scorer.py\", line 355, in _score\n",
            "    y_pred = method_caller(clf, \"decision_function\", X)\n",
            "  File \"/usr/local/lib/python3.7/dist-packages/sklearn/metrics/_scorer.py\", line 68, in _cached_call\n",
            "    return getattr(estimator, method)(*args, **kwargs)\n",
            "  File \"/usr/local/lib/python3.7/dist-packages/sklearn/utils/metaestimators.py\", line 109, in __get__\n",
            "    if not self.check(obj):\n",
            "  File \"/usr/local/lib/python3.7/dist-packages/sklearn/pipeline.py\", line 45, in check\n",
            "    getattr(self._final_estimator, attr)\n",
            "AttributeError: 'ClfSwitcher' object has no attribute 'decision_function'\n",
            "\n",
            "During handling of the above exception, another exception occurred:\n",
            "\n",
            "Traceback (most recent call last):\n",
            "  File \"/usr/local/lib/python3.7/dist-packages/sklearn/model_selection/_validation.py\", line 761, in _score\n",
            "    scores = scorer(estimator, X_test, y_test)\n",
            "  File \"/usr/local/lib/python3.7/dist-packages/sklearn/metrics/_scorer.py\", line 221, in __call__\n",
            "    sample_weight=sample_weight,\n",
            "  File \"/usr/local/lib/python3.7/dist-packages/sklearn/metrics/_scorer.py\", line 372, in _score\n",
            "    y_pred = self._select_proba_binary(y_pred, clf.classes_)\n",
            "  File \"/usr/local/lib/python3.7/dist-packages/sklearn/pipeline.py\", line 716, in classes_\n",
            "    return self.steps[-1][1].classes_\n",
            "AttributeError: 'ClfSwitcher' object has no attribute 'classes_'\n",
            "\n",
            "  UserWarning,\n",
            "/usr/local/lib/python3.7/dist-packages/sklearn/model_selection/_validation.py:774: UserWarning: Scoring failed. The score on this train-test partition for these parameters will be set to nan. Details: \n",
            "Traceback (most recent call last):\n",
            "  File \"/usr/local/lib/python3.7/dist-packages/sklearn/metrics/_scorer.py\", line 355, in _score\n",
            "    y_pred = method_caller(clf, \"decision_function\", X)\n",
            "  File \"/usr/local/lib/python3.7/dist-packages/sklearn/metrics/_scorer.py\", line 68, in _cached_call\n",
            "    return getattr(estimator, method)(*args, **kwargs)\n",
            "  File \"/usr/local/lib/python3.7/dist-packages/sklearn/utils/metaestimators.py\", line 109, in __get__\n",
            "    if not self.check(obj):\n",
            "  File \"/usr/local/lib/python3.7/dist-packages/sklearn/pipeline.py\", line 45, in check\n",
            "    getattr(self._final_estimator, attr)\n",
            "AttributeError: 'ClfSwitcher' object has no attribute 'decision_function'\n",
            "\n",
            "During handling of the above exception, another exception occurred:\n",
            "\n",
            "Traceback (most recent call last):\n",
            "  File \"/usr/local/lib/python3.7/dist-packages/sklearn/model_selection/_validation.py\", line 761, in _score\n",
            "    scores = scorer(estimator, X_test, y_test)\n",
            "  File \"/usr/local/lib/python3.7/dist-packages/sklearn/metrics/_scorer.py\", line 221, in __call__\n",
            "    sample_weight=sample_weight,\n",
            "  File \"/usr/local/lib/python3.7/dist-packages/sklearn/metrics/_scorer.py\", line 372, in _score\n",
            "    y_pred = self._select_proba_binary(y_pred, clf.classes_)\n",
            "  File \"/usr/local/lib/python3.7/dist-packages/sklearn/pipeline.py\", line 716, in classes_\n",
            "    return self.steps[-1][1].classes_\n",
            "AttributeError: 'ClfSwitcher' object has no attribute 'classes_'\n",
            "\n",
            "  UserWarning,\n",
            "/usr/local/lib/python3.7/dist-packages/sklearn/model_selection/_validation.py:774: UserWarning: Scoring failed. The score on this train-test partition for these parameters will be set to nan. Details: \n",
            "Traceback (most recent call last):\n",
            "  File \"/usr/local/lib/python3.7/dist-packages/sklearn/metrics/_scorer.py\", line 355, in _score\n",
            "    y_pred = method_caller(clf, \"decision_function\", X)\n",
            "  File \"/usr/local/lib/python3.7/dist-packages/sklearn/metrics/_scorer.py\", line 68, in _cached_call\n",
            "    return getattr(estimator, method)(*args, **kwargs)\n",
            "  File \"/usr/local/lib/python3.7/dist-packages/sklearn/utils/metaestimators.py\", line 109, in __get__\n",
            "    if not self.check(obj):\n",
            "  File \"/usr/local/lib/python3.7/dist-packages/sklearn/pipeline.py\", line 45, in check\n",
            "    getattr(self._final_estimator, attr)\n",
            "AttributeError: 'ClfSwitcher' object has no attribute 'decision_function'\n",
            "\n",
            "During handling of the above exception, another exception occurred:\n",
            "\n",
            "Traceback (most recent call last):\n",
            "  File \"/usr/local/lib/python3.7/dist-packages/sklearn/model_selection/_validation.py\", line 761, in _score\n",
            "    scores = scorer(estimator, X_test, y_test)\n",
            "  File \"/usr/local/lib/python3.7/dist-packages/sklearn/metrics/_scorer.py\", line 221, in __call__\n",
            "    sample_weight=sample_weight,\n",
            "  File \"/usr/local/lib/python3.7/dist-packages/sklearn/metrics/_scorer.py\", line 372, in _score\n",
            "    y_pred = self._select_proba_binary(y_pred, clf.classes_)\n",
            "  File \"/usr/local/lib/python3.7/dist-packages/sklearn/pipeline.py\", line 716, in classes_\n",
            "    return self.steps[-1][1].classes_\n",
            "AttributeError: 'ClfSwitcher' object has no attribute 'classes_'\n",
            "\n",
            "  UserWarning,\n",
            "/usr/local/lib/python3.7/dist-packages/sklearn/model_selection/_validation.py:774: UserWarning: Scoring failed. The score on this train-test partition for these parameters will be set to nan. Details: \n",
            "Traceback (most recent call last):\n",
            "  File \"/usr/local/lib/python3.7/dist-packages/sklearn/metrics/_scorer.py\", line 355, in _score\n",
            "    y_pred = method_caller(clf, \"decision_function\", X)\n",
            "  File \"/usr/local/lib/python3.7/dist-packages/sklearn/metrics/_scorer.py\", line 68, in _cached_call\n",
            "    return getattr(estimator, method)(*args, **kwargs)\n",
            "  File \"/usr/local/lib/python3.7/dist-packages/sklearn/utils/metaestimators.py\", line 109, in __get__\n",
            "    if not self.check(obj):\n",
            "  File \"/usr/local/lib/python3.7/dist-packages/sklearn/pipeline.py\", line 45, in check\n",
            "    getattr(self._final_estimator, attr)\n",
            "AttributeError: 'ClfSwitcher' object has no attribute 'decision_function'\n",
            "\n",
            "During handling of the above exception, another exception occurred:\n",
            "\n",
            "Traceback (most recent call last):\n",
            "  File \"/usr/local/lib/python3.7/dist-packages/sklearn/model_selection/_validation.py\", line 761, in _score\n",
            "    scores = scorer(estimator, X_test, y_test)\n",
            "  File \"/usr/local/lib/python3.7/dist-packages/sklearn/metrics/_scorer.py\", line 221, in __call__\n",
            "    sample_weight=sample_weight,\n",
            "  File \"/usr/local/lib/python3.7/dist-packages/sklearn/metrics/_scorer.py\", line 372, in _score\n",
            "    y_pred = self._select_proba_binary(y_pred, clf.classes_)\n",
            "  File \"/usr/local/lib/python3.7/dist-packages/sklearn/pipeline.py\", line 716, in classes_\n",
            "    return self.steps[-1][1].classes_\n",
            "AttributeError: 'ClfSwitcher' object has no attribute 'classes_'\n",
            "\n",
            "  UserWarning,\n",
            "/usr/local/lib/python3.7/dist-packages/sklearn/model_selection/_validation.py:774: UserWarning: Scoring failed. The score on this train-test partition for these parameters will be set to nan. Details: \n",
            "Traceback (most recent call last):\n",
            "  File \"/usr/local/lib/python3.7/dist-packages/sklearn/metrics/_scorer.py\", line 355, in _score\n",
            "    y_pred = method_caller(clf, \"decision_function\", X)\n",
            "  File \"/usr/local/lib/python3.7/dist-packages/sklearn/metrics/_scorer.py\", line 68, in _cached_call\n",
            "    return getattr(estimator, method)(*args, **kwargs)\n",
            "  File \"/usr/local/lib/python3.7/dist-packages/sklearn/utils/metaestimators.py\", line 109, in __get__\n",
            "    if not self.check(obj):\n",
            "  File \"/usr/local/lib/python3.7/dist-packages/sklearn/pipeline.py\", line 45, in check\n",
            "    getattr(self._final_estimator, attr)\n",
            "AttributeError: 'ClfSwitcher' object has no attribute 'decision_function'\n",
            "\n",
            "During handling of the above exception, another exception occurred:\n",
            "\n",
            "Traceback (most recent call last):\n",
            "  File \"/usr/local/lib/python3.7/dist-packages/sklearn/model_selection/_validation.py\", line 761, in _score\n",
            "    scores = scorer(estimator, X_test, y_test)\n",
            "  File \"/usr/local/lib/python3.7/dist-packages/sklearn/metrics/_scorer.py\", line 221, in __call__\n",
            "    sample_weight=sample_weight,\n",
            "  File \"/usr/local/lib/python3.7/dist-packages/sklearn/metrics/_scorer.py\", line 372, in _score\n",
            "    y_pred = self._select_proba_binary(y_pred, clf.classes_)\n",
            "  File \"/usr/local/lib/python3.7/dist-packages/sklearn/pipeline.py\", line 716, in classes_\n",
            "    return self.steps[-1][1].classes_\n",
            "AttributeError: 'ClfSwitcher' object has no attribute 'classes_'\n",
            "\n",
            "  UserWarning,\n",
            "/usr/local/lib/python3.7/dist-packages/sklearn/model_selection/_validation.py:774: UserWarning: Scoring failed. The score on this train-test partition for these parameters will be set to nan. Details: \n",
            "Traceback (most recent call last):\n",
            "  File \"/usr/local/lib/python3.7/dist-packages/sklearn/metrics/_scorer.py\", line 355, in _score\n",
            "    y_pred = method_caller(clf, \"decision_function\", X)\n",
            "  File \"/usr/local/lib/python3.7/dist-packages/sklearn/metrics/_scorer.py\", line 68, in _cached_call\n",
            "    return getattr(estimator, method)(*args, **kwargs)\n",
            "  File \"/usr/local/lib/python3.7/dist-packages/sklearn/utils/metaestimators.py\", line 109, in __get__\n",
            "    if not self.check(obj):\n",
            "  File \"/usr/local/lib/python3.7/dist-packages/sklearn/pipeline.py\", line 45, in check\n",
            "    getattr(self._final_estimator, attr)\n",
            "AttributeError: 'ClfSwitcher' object has no attribute 'decision_function'\n",
            "\n",
            "During handling of the above exception, another exception occurred:\n",
            "\n",
            "Traceback (most recent call last):\n",
            "  File \"/usr/local/lib/python3.7/dist-packages/sklearn/model_selection/_validation.py\", line 761, in _score\n",
            "    scores = scorer(estimator, X_test, y_test)\n",
            "  File \"/usr/local/lib/python3.7/dist-packages/sklearn/metrics/_scorer.py\", line 221, in __call__\n",
            "    sample_weight=sample_weight,\n",
            "  File \"/usr/local/lib/python3.7/dist-packages/sklearn/metrics/_scorer.py\", line 372, in _score\n",
            "    y_pred = self._select_proba_binary(y_pred, clf.classes_)\n",
            "  File \"/usr/local/lib/python3.7/dist-packages/sklearn/pipeline.py\", line 716, in classes_\n",
            "    return self.steps[-1][1].classes_\n",
            "AttributeError: 'ClfSwitcher' object has no attribute 'classes_'\n",
            "\n",
            "  UserWarning,\n",
            "/usr/local/lib/python3.7/dist-packages/sklearn/model_selection/_validation.py:774: UserWarning: Scoring failed. The score on this train-test partition for these parameters will be set to nan. Details: \n",
            "Traceback (most recent call last):\n",
            "  File \"/usr/local/lib/python3.7/dist-packages/sklearn/metrics/_scorer.py\", line 355, in _score\n",
            "    y_pred = method_caller(clf, \"decision_function\", X)\n",
            "  File \"/usr/local/lib/python3.7/dist-packages/sklearn/metrics/_scorer.py\", line 68, in _cached_call\n",
            "    return getattr(estimator, method)(*args, **kwargs)\n",
            "  File \"/usr/local/lib/python3.7/dist-packages/sklearn/utils/metaestimators.py\", line 109, in __get__\n",
            "    if not self.check(obj):\n",
            "  File \"/usr/local/lib/python3.7/dist-packages/sklearn/pipeline.py\", line 45, in check\n",
            "    getattr(self._final_estimator, attr)\n",
            "AttributeError: 'ClfSwitcher' object has no attribute 'decision_function'\n",
            "\n",
            "During handling of the above exception, another exception occurred:\n",
            "\n",
            "Traceback (most recent call last):\n",
            "  File \"/usr/local/lib/python3.7/dist-packages/sklearn/model_selection/_validation.py\", line 761, in _score\n",
            "    scores = scorer(estimator, X_test, y_test)\n",
            "  File \"/usr/local/lib/python3.7/dist-packages/sklearn/metrics/_scorer.py\", line 221, in __call__\n",
            "    sample_weight=sample_weight,\n",
            "  File \"/usr/local/lib/python3.7/dist-packages/sklearn/metrics/_scorer.py\", line 372, in _score\n",
            "    y_pred = self._select_proba_binary(y_pred, clf.classes_)\n",
            "  File \"/usr/local/lib/python3.7/dist-packages/sklearn/pipeline.py\", line 716, in classes_\n",
            "    return self.steps[-1][1].classes_\n",
            "AttributeError: 'ClfSwitcher' object has no attribute 'classes_'\n",
            "\n",
            "  UserWarning,\n",
            "/usr/local/lib/python3.7/dist-packages/sklearn/model_selection/_validation.py:774: UserWarning: Scoring failed. The score on this train-test partition for these parameters will be set to nan. Details: \n",
            "Traceback (most recent call last):\n",
            "  File \"/usr/local/lib/python3.7/dist-packages/sklearn/metrics/_scorer.py\", line 355, in _score\n",
            "    y_pred = method_caller(clf, \"decision_function\", X)\n",
            "  File \"/usr/local/lib/python3.7/dist-packages/sklearn/metrics/_scorer.py\", line 68, in _cached_call\n",
            "    return getattr(estimator, method)(*args, **kwargs)\n",
            "  File \"/usr/local/lib/python3.7/dist-packages/sklearn/utils/metaestimators.py\", line 109, in __get__\n",
            "    if not self.check(obj):\n",
            "  File \"/usr/local/lib/python3.7/dist-packages/sklearn/pipeline.py\", line 45, in check\n",
            "    getattr(self._final_estimator, attr)\n",
            "AttributeError: 'ClfSwitcher' object has no attribute 'decision_function'\n",
            "\n",
            "During handling of the above exception, another exception occurred:\n",
            "\n",
            "Traceback (most recent call last):\n",
            "  File \"/usr/local/lib/python3.7/dist-packages/sklearn/model_selection/_validation.py\", line 761, in _score\n",
            "    scores = scorer(estimator, X_test, y_test)\n",
            "  File \"/usr/local/lib/python3.7/dist-packages/sklearn/metrics/_scorer.py\", line 221, in __call__\n",
            "    sample_weight=sample_weight,\n",
            "  File \"/usr/local/lib/python3.7/dist-packages/sklearn/metrics/_scorer.py\", line 372, in _score\n",
            "    y_pred = self._select_proba_binary(y_pred, clf.classes_)\n",
            "  File \"/usr/local/lib/python3.7/dist-packages/sklearn/pipeline.py\", line 716, in classes_\n",
            "    return self.steps[-1][1].classes_\n",
            "AttributeError: 'ClfSwitcher' object has no attribute 'classes_'\n",
            "\n",
            "  UserWarning,\n",
            "/usr/local/lib/python3.7/dist-packages/sklearn/model_selection/_validation.py:774: UserWarning: Scoring failed. The score on this train-test partition for these parameters will be set to nan. Details: \n",
            "Traceback (most recent call last):\n",
            "  File \"/usr/local/lib/python3.7/dist-packages/sklearn/metrics/_scorer.py\", line 355, in _score\n",
            "    y_pred = method_caller(clf, \"decision_function\", X)\n",
            "  File \"/usr/local/lib/python3.7/dist-packages/sklearn/metrics/_scorer.py\", line 68, in _cached_call\n",
            "    return getattr(estimator, method)(*args, **kwargs)\n",
            "  File \"/usr/local/lib/python3.7/dist-packages/sklearn/utils/metaestimators.py\", line 109, in __get__\n",
            "    if not self.check(obj):\n",
            "  File \"/usr/local/lib/python3.7/dist-packages/sklearn/pipeline.py\", line 45, in check\n",
            "    getattr(self._final_estimator, attr)\n",
            "AttributeError: 'ClfSwitcher' object has no attribute 'decision_function'\n",
            "\n",
            "During handling of the above exception, another exception occurred:\n",
            "\n",
            "Traceback (most recent call last):\n",
            "  File \"/usr/local/lib/python3.7/dist-packages/sklearn/model_selection/_validation.py\", line 761, in _score\n",
            "    scores = scorer(estimator, X_test, y_test)\n",
            "  File \"/usr/local/lib/python3.7/dist-packages/sklearn/metrics/_scorer.py\", line 221, in __call__\n",
            "    sample_weight=sample_weight,\n",
            "  File \"/usr/local/lib/python3.7/dist-packages/sklearn/metrics/_scorer.py\", line 372, in _score\n",
            "    y_pred = self._select_proba_binary(y_pred, clf.classes_)\n",
            "  File \"/usr/local/lib/python3.7/dist-packages/sklearn/pipeline.py\", line 716, in classes_\n",
            "    return self.steps[-1][1].classes_\n",
            "AttributeError: 'ClfSwitcher' object has no attribute 'classes_'\n",
            "\n",
            "  UserWarning,\n",
            "/usr/local/lib/python3.7/dist-packages/sklearn/model_selection/_validation.py:774: UserWarning: Scoring failed. The score on this train-test partition for these parameters will be set to nan. Details: \n",
            "Traceback (most recent call last):\n",
            "  File \"/usr/local/lib/python3.7/dist-packages/sklearn/metrics/_scorer.py\", line 355, in _score\n",
            "    y_pred = method_caller(clf, \"decision_function\", X)\n",
            "  File \"/usr/local/lib/python3.7/dist-packages/sklearn/metrics/_scorer.py\", line 68, in _cached_call\n",
            "    return getattr(estimator, method)(*args, **kwargs)\n",
            "  File \"/usr/local/lib/python3.7/dist-packages/sklearn/utils/metaestimators.py\", line 109, in __get__\n",
            "    if not self.check(obj):\n",
            "  File \"/usr/local/lib/python3.7/dist-packages/sklearn/pipeline.py\", line 45, in check\n",
            "    getattr(self._final_estimator, attr)\n",
            "AttributeError: 'ClfSwitcher' object has no attribute 'decision_function'\n",
            "\n",
            "During handling of the above exception, another exception occurred:\n",
            "\n",
            "Traceback (most recent call last):\n",
            "  File \"/usr/local/lib/python3.7/dist-packages/sklearn/model_selection/_validation.py\", line 761, in _score\n",
            "    scores = scorer(estimator, X_test, y_test)\n",
            "  File \"/usr/local/lib/python3.7/dist-packages/sklearn/metrics/_scorer.py\", line 221, in __call__\n",
            "    sample_weight=sample_weight,\n",
            "  File \"/usr/local/lib/python3.7/dist-packages/sklearn/metrics/_scorer.py\", line 372, in _score\n",
            "    y_pred = self._select_proba_binary(y_pred, clf.classes_)\n",
            "  File \"/usr/local/lib/python3.7/dist-packages/sklearn/pipeline.py\", line 716, in classes_\n",
            "    return self.steps[-1][1].classes_\n",
            "AttributeError: 'ClfSwitcher' object has no attribute 'classes_'\n",
            "\n",
            "  UserWarning,\n",
            "/usr/local/lib/python3.7/dist-packages/sklearn/model_selection/_validation.py:774: UserWarning: Scoring failed. The score on this train-test partition for these parameters will be set to nan. Details: \n",
            "Traceback (most recent call last):\n",
            "  File \"/usr/local/lib/python3.7/dist-packages/sklearn/metrics/_scorer.py\", line 355, in _score\n",
            "    y_pred = method_caller(clf, \"decision_function\", X)\n",
            "  File \"/usr/local/lib/python3.7/dist-packages/sklearn/metrics/_scorer.py\", line 68, in _cached_call\n",
            "    return getattr(estimator, method)(*args, **kwargs)\n",
            "  File \"/usr/local/lib/python3.7/dist-packages/sklearn/utils/metaestimators.py\", line 109, in __get__\n",
            "    if not self.check(obj):\n",
            "  File \"/usr/local/lib/python3.7/dist-packages/sklearn/pipeline.py\", line 45, in check\n",
            "    getattr(self._final_estimator, attr)\n",
            "AttributeError: 'ClfSwitcher' object has no attribute 'decision_function'\n",
            "\n",
            "During handling of the above exception, another exception occurred:\n",
            "\n",
            "Traceback (most recent call last):\n",
            "  File \"/usr/local/lib/python3.7/dist-packages/sklearn/model_selection/_validation.py\", line 761, in _score\n",
            "    scores = scorer(estimator, X_test, y_test)\n",
            "  File \"/usr/local/lib/python3.7/dist-packages/sklearn/metrics/_scorer.py\", line 221, in __call__\n",
            "    sample_weight=sample_weight,\n",
            "  File \"/usr/local/lib/python3.7/dist-packages/sklearn/metrics/_scorer.py\", line 372, in _score\n",
            "    y_pred = self._select_proba_binary(y_pred, clf.classes_)\n",
            "  File \"/usr/local/lib/python3.7/dist-packages/sklearn/pipeline.py\", line 716, in classes_\n",
            "    return self.steps[-1][1].classes_\n",
            "AttributeError: 'ClfSwitcher' object has no attribute 'classes_'\n",
            "\n",
            "  UserWarning,\n",
            "/usr/local/lib/python3.7/dist-packages/sklearn/model_selection/_validation.py:774: UserWarning: Scoring failed. The score on this train-test partition for these parameters will be set to nan. Details: \n",
            "Traceback (most recent call last):\n",
            "  File \"/usr/local/lib/python3.7/dist-packages/sklearn/metrics/_scorer.py\", line 355, in _score\n",
            "    y_pred = method_caller(clf, \"decision_function\", X)\n",
            "  File \"/usr/local/lib/python3.7/dist-packages/sklearn/metrics/_scorer.py\", line 68, in _cached_call\n",
            "    return getattr(estimator, method)(*args, **kwargs)\n",
            "  File \"/usr/local/lib/python3.7/dist-packages/sklearn/utils/metaestimators.py\", line 109, in __get__\n",
            "    if not self.check(obj):\n",
            "  File \"/usr/local/lib/python3.7/dist-packages/sklearn/pipeline.py\", line 45, in check\n",
            "    getattr(self._final_estimator, attr)\n",
            "AttributeError: 'ClfSwitcher' object has no attribute 'decision_function'\n",
            "\n",
            "During handling of the above exception, another exception occurred:\n",
            "\n",
            "Traceback (most recent call last):\n",
            "  File \"/usr/local/lib/python3.7/dist-packages/sklearn/model_selection/_validation.py\", line 761, in _score\n",
            "    scores = scorer(estimator, X_test, y_test)\n",
            "  File \"/usr/local/lib/python3.7/dist-packages/sklearn/metrics/_scorer.py\", line 221, in __call__\n",
            "    sample_weight=sample_weight,\n",
            "  File \"/usr/local/lib/python3.7/dist-packages/sklearn/metrics/_scorer.py\", line 372, in _score\n",
            "    y_pred = self._select_proba_binary(y_pred, clf.classes_)\n",
            "  File \"/usr/local/lib/python3.7/dist-packages/sklearn/pipeline.py\", line 716, in classes_\n",
            "    return self.steps[-1][1].classes_\n",
            "AttributeError: 'ClfSwitcher' object has no attribute 'classes_'\n",
            "\n",
            "  UserWarning,\n",
            "/usr/local/lib/python3.7/dist-packages/sklearn/model_selection/_validation.py:774: UserWarning: Scoring failed. The score on this train-test partition for these parameters will be set to nan. Details: \n",
            "Traceback (most recent call last):\n",
            "  File \"/usr/local/lib/python3.7/dist-packages/sklearn/metrics/_scorer.py\", line 355, in _score\n",
            "    y_pred = method_caller(clf, \"decision_function\", X)\n",
            "  File \"/usr/local/lib/python3.7/dist-packages/sklearn/metrics/_scorer.py\", line 68, in _cached_call\n",
            "    return getattr(estimator, method)(*args, **kwargs)\n",
            "  File \"/usr/local/lib/python3.7/dist-packages/sklearn/utils/metaestimators.py\", line 109, in __get__\n",
            "    if not self.check(obj):\n",
            "  File \"/usr/local/lib/python3.7/dist-packages/sklearn/pipeline.py\", line 45, in check\n",
            "    getattr(self._final_estimator, attr)\n",
            "AttributeError: 'ClfSwitcher' object has no attribute 'decision_function'\n",
            "\n",
            "During handling of the above exception, another exception occurred:\n",
            "\n",
            "Traceback (most recent call last):\n",
            "  File \"/usr/local/lib/python3.7/dist-packages/sklearn/model_selection/_validation.py\", line 761, in _score\n",
            "    scores = scorer(estimator, X_test, y_test)\n",
            "  File \"/usr/local/lib/python3.7/dist-packages/sklearn/metrics/_scorer.py\", line 221, in __call__\n",
            "    sample_weight=sample_weight,\n",
            "  File \"/usr/local/lib/python3.7/dist-packages/sklearn/metrics/_scorer.py\", line 372, in _score\n",
            "    y_pred = self._select_proba_binary(y_pred, clf.classes_)\n",
            "  File \"/usr/local/lib/python3.7/dist-packages/sklearn/pipeline.py\", line 716, in classes_\n",
            "    return self.steps[-1][1].classes_\n",
            "AttributeError: 'ClfSwitcher' object has no attribute 'classes_'\n",
            "\n",
            "  UserWarning,\n",
            "/usr/local/lib/python3.7/dist-packages/sklearn/model_selection/_validation.py:774: UserWarning: Scoring failed. The score on this train-test partition for these parameters will be set to nan. Details: \n",
            "Traceback (most recent call last):\n",
            "  File \"/usr/local/lib/python3.7/dist-packages/sklearn/metrics/_scorer.py\", line 355, in _score\n",
            "    y_pred = method_caller(clf, \"decision_function\", X)\n",
            "  File \"/usr/local/lib/python3.7/dist-packages/sklearn/metrics/_scorer.py\", line 68, in _cached_call\n",
            "    return getattr(estimator, method)(*args, **kwargs)\n",
            "  File \"/usr/local/lib/python3.7/dist-packages/sklearn/utils/metaestimators.py\", line 109, in __get__\n",
            "    if not self.check(obj):\n",
            "  File \"/usr/local/lib/python3.7/dist-packages/sklearn/pipeline.py\", line 45, in check\n",
            "    getattr(self._final_estimator, attr)\n",
            "AttributeError: 'ClfSwitcher' object has no attribute 'decision_function'\n",
            "\n",
            "During handling of the above exception, another exception occurred:\n",
            "\n",
            "Traceback (most recent call last):\n",
            "  File \"/usr/local/lib/python3.7/dist-packages/sklearn/model_selection/_validation.py\", line 761, in _score\n",
            "    scores = scorer(estimator, X_test, y_test)\n",
            "  File \"/usr/local/lib/python3.7/dist-packages/sklearn/metrics/_scorer.py\", line 221, in __call__\n",
            "    sample_weight=sample_weight,\n",
            "  File \"/usr/local/lib/python3.7/dist-packages/sklearn/metrics/_scorer.py\", line 372, in _score\n",
            "    y_pred = self._select_proba_binary(y_pred, clf.classes_)\n",
            "  File \"/usr/local/lib/python3.7/dist-packages/sklearn/pipeline.py\", line 716, in classes_\n",
            "    return self.steps[-1][1].classes_\n",
            "AttributeError: 'ClfSwitcher' object has no attribute 'classes_'\n",
            "\n",
            "  UserWarning,\n",
            "/usr/local/lib/python3.7/dist-packages/sklearn/model_selection/_validation.py:774: UserWarning: Scoring failed. The score on this train-test partition for these parameters will be set to nan. Details: \n",
            "Traceback (most recent call last):\n",
            "  File \"/usr/local/lib/python3.7/dist-packages/sklearn/metrics/_scorer.py\", line 355, in _score\n",
            "    y_pred = method_caller(clf, \"decision_function\", X)\n",
            "  File \"/usr/local/lib/python3.7/dist-packages/sklearn/metrics/_scorer.py\", line 68, in _cached_call\n",
            "    return getattr(estimator, method)(*args, **kwargs)\n",
            "  File \"/usr/local/lib/python3.7/dist-packages/sklearn/utils/metaestimators.py\", line 109, in __get__\n",
            "    if not self.check(obj):\n",
            "  File \"/usr/local/lib/python3.7/dist-packages/sklearn/pipeline.py\", line 45, in check\n",
            "    getattr(self._final_estimator, attr)\n",
            "AttributeError: 'ClfSwitcher' object has no attribute 'decision_function'\n",
            "\n",
            "During handling of the above exception, another exception occurred:\n",
            "\n",
            "Traceback (most recent call last):\n",
            "  File \"/usr/local/lib/python3.7/dist-packages/sklearn/model_selection/_validation.py\", line 761, in _score\n",
            "    scores = scorer(estimator, X_test, y_test)\n",
            "  File \"/usr/local/lib/python3.7/dist-packages/sklearn/metrics/_scorer.py\", line 221, in __call__\n",
            "    sample_weight=sample_weight,\n",
            "  File \"/usr/local/lib/python3.7/dist-packages/sklearn/metrics/_scorer.py\", line 372, in _score\n",
            "    y_pred = self._select_proba_binary(y_pred, clf.classes_)\n",
            "  File \"/usr/local/lib/python3.7/dist-packages/sklearn/pipeline.py\", line 716, in classes_\n",
            "    return self.steps[-1][1].classes_\n",
            "AttributeError: 'ClfSwitcher' object has no attribute 'classes_'\n",
            "\n",
            "  UserWarning,\n",
            "/usr/local/lib/python3.7/dist-packages/sklearn/model_selection/_validation.py:774: UserWarning: Scoring failed. The score on this train-test partition for these parameters will be set to nan. Details: \n",
            "Traceback (most recent call last):\n",
            "  File \"/usr/local/lib/python3.7/dist-packages/sklearn/metrics/_scorer.py\", line 355, in _score\n",
            "    y_pred = method_caller(clf, \"decision_function\", X)\n",
            "  File \"/usr/local/lib/python3.7/dist-packages/sklearn/metrics/_scorer.py\", line 68, in _cached_call\n",
            "    return getattr(estimator, method)(*args, **kwargs)\n",
            "  File \"/usr/local/lib/python3.7/dist-packages/sklearn/utils/metaestimators.py\", line 109, in __get__\n",
            "    if not self.check(obj):\n",
            "  File \"/usr/local/lib/python3.7/dist-packages/sklearn/pipeline.py\", line 45, in check\n",
            "    getattr(self._final_estimator, attr)\n",
            "AttributeError: 'ClfSwitcher' object has no attribute 'decision_function'\n",
            "\n",
            "During handling of the above exception, another exception occurred:\n",
            "\n",
            "Traceback (most recent call last):\n",
            "  File \"/usr/local/lib/python3.7/dist-packages/sklearn/model_selection/_validation.py\", line 761, in _score\n",
            "    scores = scorer(estimator, X_test, y_test)\n",
            "  File \"/usr/local/lib/python3.7/dist-packages/sklearn/metrics/_scorer.py\", line 221, in __call__\n",
            "    sample_weight=sample_weight,\n",
            "  File \"/usr/local/lib/python3.7/dist-packages/sklearn/metrics/_scorer.py\", line 372, in _score\n",
            "    y_pred = self._select_proba_binary(y_pred, clf.classes_)\n",
            "  File \"/usr/local/lib/python3.7/dist-packages/sklearn/pipeline.py\", line 716, in classes_\n",
            "    return self.steps[-1][1].classes_\n",
            "AttributeError: 'ClfSwitcher' object has no attribute 'classes_'\n",
            "\n",
            "  UserWarning,\n",
            "/usr/local/lib/python3.7/dist-packages/sklearn/model_selection/_search.py:972: UserWarning: One or more of the test scores are non-finite: [nan nan nan nan nan nan]\n",
            "  category=UserWarning,\n"
          ]
        },
        {
          "output_type": "stream",
          "name": "stdout",
          "text": [
            "{'model__estimator': RandomForestClassifier(n_estimators=50, random_state=0), 'model__estimator__class_weight': None, 'model__estimator__n_estimators': 50}\n",
            "File saved:  drive/MyDrive/data exercises/grid_search3_result.sav2022-11-18_0604\n"
          ]
        }
      ]
    },
    {
      "cell_type": "code",
      "source": [
        "y_pred_train3 = gs3.predict(X_train)\n",
        "metrics3, metrics_train3, y_pred3 = evaluate_classifier(gs3, X_test, y_test, y_train, y_pred_train3, pos_label=1,model_name='RandomForestClassifier')"
      ],
      "metadata": {
        "colab": {
          "base_uri": "https://localhost:8080/",
          "height": 400
        },
        "id": "ZtmLhdBKcL8h",
        "outputId": "0fa82bf8-caf0-4b28-d305-26ee7338505b"
      },
      "execution_count": null,
      "outputs": [
        {
          "output_type": "stream",
          "name": "stdout",
          "text": [
            "\n",
            "RandomForestClassifier evaluation metrics: \n",
            "\tTest data\tTraining data\t\tDifference\n",
            "Accuracy: \t57.47%\t\t58.70%\t\t-1.22%\n",
            "Recall: \t13.69%\t\t16.79%\t\t-3.10%\n",
            "Precision: \t32.16%\t\t36.94%\t\t-4.78%\n",
            "F1: \t\t19.20%\t\t23.08%\t\t-3.88%\n"
          ]
        },
        {
          "output_type": "display_data",
          "data": {
            "text/plain": [
              "<Figure size 432x288 with 2 Axes>"
            ],
            "image/png": "[encoded data removed]"
          },
          "metadata": {
            "needs_background": "light"
          }
        }
      ]
    },
    {
      "cell_type": "markdown",
      "source": [
        "# Iteration 4: 'recall' as scoring metric, set min_samples_leaf"
      ],
      "metadata": {
        "id": "Jb4T5GF7ZhYj"
      }
    },
    {
      "cell_type": "code",
      "source": [
        "forest_pipe = Pipeline([\n",
        "    ('model', ClfSwitcher())\n",
        "  ])\n",
        "scoring = {\"AUC\": \"roc_auc\", \"recall\": 'recall'}\n",
        "grid_params = [\n",
        "    {\n",
        "        'model__estimator': [RandomForestClassifier(random_state=0)],\n",
        "        'model__estimator__n_estimators': [100, 150, 200],\n",
        "        'model__estimator__min_samples_leaf' : [3, 4, 5],\n",
        "        'model__estimator__class_weight' : [None, 'balanced']\n",
        "        },\n",
        "    ]\n",
        "\n",
        "gs4 = GridSearchCV(forest_pipe, grid_params, scoring='recall')\n",
        "gs4.fit(X_train, y_train)\n",
        "print(gs4.best_params_)\n",
        "\n",
        "path=r'drive/MyDrive/data exercises'\n",
        "filename = 'grid_search4_result.sav' \n",
        "savepickle(gs4,filename,path=path, append_version=True)\n",
        "\n",
        "y_pred_train4 = gs4.predict(X_train)\n",
        "metrics4, metrics_train4, y_pred4 = evaluate_classifier(gs4, X_test, y_test, y_train, y_pred_train4, pos_label=1,model_name='RandomForestClassifier')\n",
        "\n",
        "# Save predictions\n",
        "filename = 'y_pred4.sav' \n",
        "savepickle(y_pred4,filename,path=path, append_version=True)"
      ],
      "metadata": {
        "colab": {
          "base_uri": "https://localhost:8080/",
          "height": 577
        },
        "id": "PmdX_y-PcL54",
        "outputId": "2806cd18-5e4d-4de7-f020-1d325a92d3c8"
      },
      "execution_count": null,
      "outputs": [
        {
          "output_type": "stream",
          "name": "stdout",
          "text": [
            "{'model__estimator': RandomForestClassifier(class_weight='balanced', min_samples_leaf=5,\n",
            "                       n_estimators=150, random_state=0), 'model__estimator__class_weight': 'balanced', 'model__estimator__min_samples_leaf': 5, 'model__estimator__n_estimators': 150}\n",
            "File saved:  drive/MyDrive/data exercises/grid_search4_result.sav2022-11-18_0750\n",
            "Pipeline(steps=[('model',\n",
            "                 ClfSwitcher(estimator=RandomForestClassifier(class_weight='balanced',\n",
            "                                                              min_samples_leaf=5,\n",
            "                                                              n_estimators=150,\n",
            "                                                              random_state=0)))])\n",
            "\n",
            "RandomForestClassifier evaluation metrics: \n",
            "\tTest data\tTraining data\t\tDifference\n",
            "Accuracy: \t52.42%\t\t64.54%\t\t-12.12%\n",
            "Recall: \t45.32%\t\t62.73%\t\t-17.41%\n",
            "Precision: \t37.92%\t\t51.63%\t\t-13.71%\n",
            "F1: \t\t41.29%\t\t56.64%\t\t-15.35%\n",
            "File saved:  drive/MyDrive/data exercises/y_pred4.sav2022-11-18_0750\n"
          ]
        },
        {
          "output_type": "display_data",
          "data": {
            "text/plain": [
              "<Figure size 432x288 with 2 Axes>"
            ],
            "image/png": "[encoded data removed]"
          },
          "metadata": {
            "needs_background": "light"
          }
        }
      ]
    },
    {
      "cell_type": "markdown",
      "source": [
        "# Iteration 5: with upsampling, PCA and selectK best, score on f1"
      ],
      "metadata": {
        "id": "7fUUMwzfgLvS"
      }
    },
    {
      "cell_type": "code",
      "source": [
        "# Load X_train and X_test\n",
        "\n",
        "def loadpickle(filename,filepath):\n",
        "    \"\"\"\n",
        "    Load a pickled model using specified file path copied from windows file explorer.\n",
        "    Back slashes in file path will be converted to forward slashes.\n",
        "    Arguments:\n",
        "    - filepath (raw string): Use the format r'<path>'.\n",
        "    - filename (string).\n",
        "    \n",
        "    Returns saved object.\n",
        "    \"\"\"\n",
        "    filename = f'{filepath}/'.replace('\\\\','/')+filename\n",
        "    loaded_model = pickle.load(open(filename, 'rb'))\n",
        "    return loaded_model\n",
        "\n",
        "path=r'drive/MyDrive/data exercises'\n",
        "X_train = loadpickle('X_train.sav', path)\n",
        "\n",
        "print(X_train.shape)\n",
        "print(y_train.shape)"
      ],
      "metadata": {
        "colab": {
          "base_uri": "https://localhost:8080/"
        },
        "id": "qv7yFckYYMW4",
        "outputId": "74032499-33a6-455c-901f-51e1f9056ea3"
      },
      "execution_count": null,
      "outputs": [
        {
          "output_type": "stream",
          "name": "stdout",
          "text": [
            "(323431, 10)\n",
            "(323431,)\n"
          ]
        }
      ]
    },
    {
      "cell_type": "code",
      "source": [
        "# 2022-11-18 7:54 Process X_test\n",
        "\n",
        "def savepickle(model,filename, ext='sav', path=None,append_version=False):\n",
        "    \"\"\"\n",
        "    Export object as a pickle.\n",
        "    Parameters:\n",
        "    - model: Model variable name.\n",
        "    - filename: Root of the filename.\n",
        "    - filepath (raw string): Use the format r'<path>'. If None, file is saved in same director.\n",
        "    - append_version (bool): If true, append date and time to end of filename.\n",
        "    \"\"\"\n",
        "    if path:\n",
        "        path = f'{path}/'.replace('\\\\','/')\n",
        "    if append_version == True:\n",
        "        filename+=datetime.now().strftime('%Y-%m-%d_%H%M')\n",
        "    with open (path+filename, 'wb') as fh:\n",
        "        pickle.dump(model, fh)\n",
        "    print('File saved: ',path+filename+ext)\n",
        "\n",
        "# Process\n",
        "X_test = process_pairs(df_test)\n",
        "\n",
        "# Save\n",
        "path=r'drive/MyDrive/data exercises'\n",
        "filename = 'X_test.sav' \n",
        "savepickle(X_test,filename,path=path, append_version=True)"
      ],
      "metadata": {
        "id": "Sn2F-ENscMzK"
      },
      "execution_count": null,
      "outputs": []
    },
    {
      "cell_type": "code",
      "source": [
        "## Try with PCA and selectK best\n",
        "from sklearn.decomposition import PCA\n",
        "from sklearn.feature_selection import SelectKBest\n",
        "\n",
        "feature_selection = Pipeline([\n",
        "    ('pca', PCA(n_components=0.95)),\n",
        "    ('selectkbest', SelectKBest(k=8))\n",
        "])\n",
        "\n",
        "model_pipe = Pipeline([\n",
        "    ('features', feature_selection),\n",
        "    ('model', ClfSwitcher())\n",
        "  ])\n",
        "scoring = {\"AUC\": \"roc_auc\", \"recall\": 'recall'}\n",
        "grid_params = {\n",
        "        'model__estimator': [RandomForestClassifier(random_state=0)],\n",
        "        'model__estimator__n_estimators': [100, 150],\n",
        "        'model__estimator__min_samples_leaf' : [3, 4, 5],\n",
        "        'model__estimator__class_weight' : [None, 'balanced']\n",
        "        }\n",
        "    \n",
        "grid_step_params = [\n",
        "    {**{\n",
        "        'features__pca': ['passthrough'],\n",
        "        'features__selectkbest__k' : [8, 9]\n",
        "        }, **grid_params},\n",
        "    {**{\n",
        "        'features__selectkbest': ['passthrough']\n",
        "        }, **grid_params}\n",
        "    ]\n",
        "\n",
        "gs5 = GridSearchCV(model_pipe, grid_step_params, scoring='f1')\n",
        "gs5.fit(X_train, y_train)\n",
        "print(gs5.best_params_)\n",
        "\n",
        "filename = 'grid_search5_result.sav' \n",
        "savepickle(gs5,filename,path=path, append_version=True)\n",
        "\n",
        "y_pred_train5 = gs5.predict(X_train)"
      ],
      "metadata": {
        "colab": {
          "base_uri": "https://localhost:8080/",
          "height": 269
        },
        "outputId": "8d6353be-4794-41e9-dd3d-0cc23130ec12",
        "id": "WUK34-GzxXc4"
      },
      "execution_count": null,
      "outputs": [
        {
          "output_type": "stream",
          "name": "stdout",
          "text": [
            "{'features__selectkbest': 'passthrough', 'model__estimator': RandomForestClassifier(class_weight='balanced', min_samples_leaf=5,\n",
            "                       random_state=0), 'model__estimator__class_weight': 'balanced', 'model__estimator__min_samples_leaf': 5, 'model__estimator__n_estimators': 100}\n"
          ]
        },
        {
          "output_type": "error",
          "ename": "NameError",
          "evalue": "ignored",
          "traceback": [
            "\u001b[0;31m---------------------------------------------------------------------------\u001b[0m",
            "\u001b[0;31mNameError\u001b[0m                                 Traceback (most recent call last)",
            "\u001b[0;32m<ipython-input-22-1ebc12ad5358>\u001b[0m in \u001b[0;36m<module>\u001b[0;34m\u001b[0m\n\u001b[1;32m     35\u001b[0m \u001b[0;34m\u001b[0m\u001b[0m\n\u001b[1;32m     36\u001b[0m \u001b[0mfilename\u001b[0m \u001b[0;34m=\u001b[0m \u001b[0;34m'grid_search5_result.sav'\u001b[0m\u001b[0;34m\u001b[0m\u001b[0;34m\u001b[0m\u001b[0m\n\u001b[0;32m---> 37\u001b[0;31m \u001b[0msavepickle\u001b[0m\u001b[0;34m(\u001b[0m\u001b[0mgs5\u001b[0m\u001b[0;34m,\u001b[0m\u001b[0mfilename\u001b[0m\u001b[0;34m,\u001b[0m\u001b[0mpath\u001b[0m\u001b[0;34m=\u001b[0m\u001b[0mpath\u001b[0m\u001b[0;34m,\u001b[0m \u001b[0mappend_version\u001b[0m\u001b[0;34m=\u001b[0m\u001b[0;32mTrue\u001b[0m\u001b[0;34m)\u001b[0m\u001b[0;34m\u001b[0m\u001b[0;34m\u001b[0m\u001b[0m\n\u001b[0m\u001b[1;32m     38\u001b[0m \u001b[0;34m\u001b[0m\u001b[0m\n\u001b[1;32m     39\u001b[0m \u001b[0my_pred_train5\u001b[0m \u001b[0;34m=\u001b[0m \u001b[0mgs5\u001b[0m\u001b[0;34m.\u001b[0m\u001b[0mpredict\u001b[0m\u001b[0;34m(\u001b[0m\u001b[0mX_train\u001b[0m\u001b[0;34m)\u001b[0m\u001b[0;34m\u001b[0m\u001b[0;34m\u001b[0m\u001b[0m\n",
            "\u001b[0;31mNameError\u001b[0m: name 'savepickle' is not defined"
          ]
        }
      ]
    },
    {
      "cell_type": "code",
      "source": [
        "def savepickle(model,filename, ext='sav', path=None,append_version=False):\n",
        "    \"\"\"\n",
        "    Export object as a pickle.\n",
        "    Parameters:\n",
        "    - model: Model variable name.\n",
        "    - filename: Root of the filename.\n",
        "    - filepath (raw string): Use the format r'<path>'. If None, file is saved in same director.\n",
        "    - append_version (bool): If true, append date and time to end of filename.\n",
        "    \"\"\"\n",
        "    if path:\n",
        "        path = f'{path}/'.replace('\\\\','/')\n",
        "    if append_version == True:\n",
        "        filename+=datetime.now().strftime('%Y-%m-%d_%H%M')\n",
        "    with open (path+filename, 'wb') as fh:\n",
        "        pickle.dump(model, fh)\n",
        "    print('File saved: ',path+filename+ext)"
      ],
      "metadata": {
        "id": "3nLZH0SvNyMk"
      },
      "execution_count": null,
      "outputs": []
    },
    {
      "cell_type": "code",
      "source": [
        "import pickle\n",
        "from datetime import datetime\n",
        "filename = 'grid_search5_result.sav' \n",
        "savepickle(gs5,filename,path=path, append_version=True)\n"
      ],
      "metadata": {
        "colab": {
          "base_uri": "https://localhost:8080/"
        },
        "id": "aGdr0AioOA47",
        "outputId": "08b7fd41-f045-4135-d48d-ad691b1b7a8b"
      },
      "execution_count": null,
      "outputs": [
        {
          "output_type": "stream",
          "name": "stdout",
          "text": [
            "File saved:  drive/MyDrive/data exercises/grid_search5_result.sav2022-11-18_1931sav\n"
          ]
        }
      ]
    },
    {
      "cell_type": "code",
      "source": [
        "\n",
        "y_pred_train5 = gs5.predict(X_train)"
      ],
      "metadata": {
        "id": "kmdA5VQLOQX6"
      },
      "execution_count": null,
      "outputs": []
    },
    {
      "cell_type": "code",
      "source": [
        "# Save predictions\n",
        "filename = 'y_pred_train5.sav' \n",
        "savepickle(y_pred_train5,filename,path=path, ext='sav', append_version=True)"
      ],
      "metadata": {
        "colab": {
          "base_uri": "https://localhost:8080/"
        },
        "id": "B5D5taB9OdnY",
        "outputId": "3527e0b0-6276-4fd2-cb46-f0804c458c58"
      },
      "execution_count": null,
      "outputs": [
        {
          "output_type": "stream",
          "name": "stdout",
          "text": [
            "File saved:  drive/MyDrive/data exercises/y_pred_train5.sav2022-11-18_1933sav\n"
          ]
        }
      ]
    },
    {
      "cell_type": "code",
      "source": [
        "df_test.shape"
      ],
      "metadata": {
        "colab": {
          "base_uri": "https://localhost:8080/"
        },
        "id": "c2sOqn76PizV",
        "outputId": "d2fbe9ac-cf9a-405b-e0a8-895bc15143d1"
      },
      "execution_count": null,
      "outputs": [
        {
          "output_type": "execute_result",
          "data": {
            "text/plain": [
              "(80859, 6)"
            ]
          },
          "metadata": {},
          "execution_count": 33
        }
      ]
    },
    {
      "cell_type": "code",
      "source": [
        "# Process X_test\n",
        "print(df_test.shape)\n",
        "X_test = process_pairs(df_test)"
      ],
      "metadata": {
        "colab": {
          "base_uri": "https://localhost:8080/"
        },
        "id": "M1bGwOodO7OG",
        "outputId": "e1640a92-85bb-4387-cba1-22e355e44fdd"
      },
      "execution_count": null,
      "outputs": [
        {
          "output_type": "stream",
          "name": "stdout",
          "text": [
            "(80859, 6)\n"
          ]
        }
      ]
    },
    {
      "cell_type": "code",
      "source": [
        "# Save X_test\n",
        "filename = 'X_test' \n",
        "savepickle(X_test,filename,path=path, ext='.sav', append_version=True)"
      ],
      "metadata": {
        "colab": {
          "base_uri": "https://localhost:8080/"
        },
        "id": "qoNoZL00P8PK",
        "outputId": "f89fbc91-3d20-4d28-eafa-aa78cae20874"
      },
      "execution_count": null,
      "outputs": [
        {
          "output_type": "stream",
          "name": "stdout",
          "text": [
            "File saved:  drive/MyDrive/data exercises/X_test2022-11-18_1942.sav\n"
          ]
        }
      ]
    },
    {
      "cell_type": "code",
      "source": [
        "metrics5, metrics_train5, y_pred5 = evaluate_classifier(gs5, X_test, y_test, y_train, y_pred_train5, pos_label=1,model_name='RandomForestClassifier, PCA')\n",
        "\n",
        "# Save y_pred\n",
        "filename = 'y_pred5' \n",
        "savepickle(y_pred5,filename,path=path, ext='.sav', append_version=True)"
      ],
      "metadata": {
        "colab": {
          "base_uri": "https://localhost:8080/",
          "height": 522
        },
        "id": "BEEYGxSHb7wn",
        "outputId": "0a5b082e-d2b6-42aa-fa0a-3d982c69ee75"
      },
      "execution_count": null,
      "outputs": [
        {
          "output_type": "stream",
          "name": "stdout",
          "text": [
            "Pipeline(steps=[('features',\n",
            "                 Pipeline(steps=[('pca', PCA(n_components=0.95)),\n",
            "                                 ('selectkbest', 'passthrough')])),\n",
            "                ('model',\n",
            "                 ClfSwitcher(estimator=RandomForestClassifier(class_weight='balanced',\n",
            "                                                              min_samples_leaf=5,\n",
            "                                                              random_state=0)))])\n",
            "\n",
            "RandomForestClassifier, PCA evaluation metrics: \n",
            "\tTest data\tTraining data\t\tDifference\n",
            "Accuracy: \t51.93%\t\t64.87%\t\t-12.94%\n",
            "Recall: \t44.94%\t\t63.15%\t\t-18.21%\n",
            "Precision: \t37.43%\t\t52.00%\t\t-14.57%\n",
            "F1: \t\t40.84%\t\t57.03%\t\t-16.19%\n"
          ]
        },
        {
          "output_type": "display_data",
          "data": {
            "text/plain": [
              "<Figure size 432x288 with 2 Axes>"
            ],
            "image/png": "[encoded data removed]"
          },
          "metadata": {
            "needs_background": "light"
          }
        }
      ]
    },
    {
      "cell_type": "markdown",
      "source": [
        "## Fit same model with balanced data"
      ],
      "metadata": {
        "id": "kWztj_NXo9Ip"
      }
    },
    {
      "cell_type": "code",
      "source": [
        "# Load balanced data sets\n",
        "path=r'drive/MyDrive/data exercises'\n",
        "X_train_balanced = loadpickle('X_train_balanced2022-11-18_1849', path)\n",
        "X_test_balanced = loadpickle('X_test_balanced2022-11-18_1850', path)\n"
      ],
      "metadata": {
        "id": "mA2KDjUVcL0Q"
      },
      "execution_count": null,
      "outputs": []
    },
    {
      "cell_type": "code",
      "source": [
        "y_train_balanced = loadpickle('y_train_balanced2022-11-18_2001', path)\n",
        "y_test_balanced = loadpickle('y_test_balanced2022-11-18_2001', path)"
      ],
      "metadata": {
        "id": "YkbJPOqLTIKt"
      },
      "execution_count": null,
      "outputs": []
    },
    {
      "cell_type": "code",
      "source": [
        "\n",
        "gs5b = gs5.fit(X_train_balanced, y_train_balanced)\n",
        "\n",
        "filename = 'grid_search5_result.sav' \n",
        "savepickle(gs5b,filename,path=path, append_version=True)\n",
        "\n",
        "y_pred_train5b = gs5b.predict(X_train_balanced)"
      ],
      "metadata": {
        "colab": {
          "base_uri": "https://localhost:8080/"
        },
        "id": "uiK-wpbPcLxC",
        "outputId": "9f3a3e6f-22b8-451a-9928-36144f2c93a2"
      },
      "execution_count": null,
      "outputs": [
        {
          "output_type": "stream",
          "name": "stdout",
          "text": [
            "File saved:  drive/MyDrive/data exercises/grid_search5_result.sav2022-11-18_2112sav\n"
          ]
        }
      ]
    },
    {
      "cell_type": "code",
      "source": [
        "gs5b.best_estimator_"
      ],
      "metadata": {
        "colab": {
          "base_uri": "https://localhost:8080/"
        },
        "id": "W8fwCoGepchE",
        "outputId": "ad7db74d-bb1c-4fe8-d1d1-7045ccd3f782"
      },
      "execution_count": null,
      "outputs": [
        {
          "output_type": "execute_result",
          "data": {
            "text/plain": [
              "Pipeline(steps=[('features',\n",
              "                 Pipeline(steps=[('pca', 'passthrough'),\n",
              "                                 ('selectkbest', SelectKBest(k=8))])),\n",
              "                ('model',\n",
              "                 ClfSwitcher(estimator=RandomForestClassifier(class_weight='balanced',\n",
              "                                                              min_samples_leaf=5,\n",
              "                                                              n_estimators=150,\n",
              "                                                              random_state=0)))])"
            ]
          },
          "metadata": {},
          "execution_count": 50
        }
      ]
    },
    {
      "cell_type": "code",
      "source": [
        "# Updated 2022-11-18 10:45 so roc score prints even if classification dtypes are float.\n",
        "# Updated so that y_pred_train is passed instead of X_train to avoid having to refit the model.\n",
        "from sklearn.metrics import ConfusionMatrixDisplay, RocCurveDisplay, accuracy_score, f1_score, precision_score, recall_score, roc_auc_score\n",
        "from sklearn.metrics import confusion_matrix\n",
        "def evaluate_classifier(classifier, X_test, y_test, y_train, y_pred_train, pos_label=1,model_name='classifier', confusion=True,roc=True):\n",
        "    \"\"\"\n",
        "    Print evaluation metrics of the classifier. Classifier should be fit prior to calling this function.\n",
        "        * recall\n",
        "        * precision\n",
        "        * F1\n",
        "        * AUC score (only if class labels are integers)\n",
        "    Plot:\n",
        "        * confusion matrix\n",
        "        * ROC (only if class labels are integers)\n",
        "    Parameters:\n",
        "    - pos_label (str or int): Class label for positive class. Default is 1.\n",
        "    - model_name (string, optional): Name of model printing purposes.\n",
        "    - confusion_matrix (bool): If True (default), print the confusion matrix. \n",
        "    - roc (bool): If true, provide roc-auc score and plot.\n",
        "\n",
        "    Returns 2 dictionaries:\n",
        "    - evaluation metrics for test data\n",
        "    - evaluation metrics train data set\n",
        "    \"\"\"\n",
        "    \n",
        "    best_model = classifier\n",
        "    print(best_model.best_estimator_)\n",
        "\n",
        "    y_pred = best_model.predict(X_test)\n",
        "\n",
        "    # y_pred_train = best_model.predict(X_train)\n",
        "\n",
        "    # Metrics for test data\n",
        "    metrics = dict()\n",
        "    if len(set(y_test)) == 2:\n",
        "        recall = recall_score(y_test, y_pred, pos_label=pos_label)\n",
        "        precision = precision_score(y_test, y_pred, pos_label=pos_label)\n",
        "        f1score = f1_score(y_test, y_pred, pos_label=pos_label)\n",
        "        metrics['recall'] = recall\n",
        "        metrics['precision'] = precision\n",
        "        metrics['f1'] = f1score\n",
        "\n",
        "    accuracy = accuracy_score(y_test, y_pred)\n",
        "    metrics['accuracy'] = accuracy\n",
        "\n",
        "    # Metrics for training data\n",
        "    metrics_train = dict()\n",
        "    if len(set(y_test)) == 2:\n",
        "        recall_train = recall_score(y_train, y_pred_train, pos_label=pos_label)\n",
        "        precision_train = precision_score(y_train, y_pred_train, pos_label=pos_label)\n",
        "        f1score_train = f1_score(y_train, y_pred_train, pos_label=pos_label)\n",
        "        metrics_train['recall'] = recall_train\n",
        "        metrics_train['precision'] = precision_train\n",
        "        metrics_train['f1'] = f1score_train\n",
        "    accuracy_train = accuracy_score(y_train, y_pred_train)\n",
        "    metrics_train['accuracy'] = accuracy_train\n",
        "\n",
        "    print(f'\\n{model_name} evaluation metrics: \\n\\tTest data\\tTraining data\\t\\tDifference')\n",
        "    print(f'Accuracy: \\t{100*accuracy:.2f}%\\t\\t{100*accuracy_train:.2f}%\\t\\t{100*(accuracy-accuracy_train):.2f}%')\n",
        "    if len(set(y_test)) == 2:\n",
        "        print(f'Recall: \\t{100*recall:.2f}%\\t\\t{100*recall_train:.2f}%\\t\\t{100*(recall-recall_train):.2f}%')\n",
        "        print(f'Precision: \\t{100*precision:.2f}%\\t\\t{100*precision_train:.2f}%\\t\\t{100*(precision-precision_train):.2f}%')\n",
        "        print(f'F1: \\t\\t{100*f1score:.2f}%\\t\\t{100*f1score_train:.2f}%\\t\\t{100*(f1score-f1score_train):.2f}%')\n",
        "        if roc==True:\n",
        "            auc = roc_auc_score(y_test, y_pred)\n",
        "            auc_train = roc_auc_score(y_train, y_pred_train)\n",
        "            RocCurveDisplay.from_predictions(y_test, y_pred)\n",
        "            metrics['auc'] = auc\n",
        "            print(f'AUC: \\t\\t{100*auc:.2f}%\\t\\t{100*auc_train:.2f}%\\t\\t{100*(auc-auc_train):.2f}%')\n",
        "    if confusion==True:\n",
        "        ConfusionMatrixDisplay.from_predictions(y_test, y_pred)\n",
        "        matrix = confusion_matrix(y_test, y_pred)\n",
        "\n",
        "    return metrics, metrics_train, y_pred, matrix"
      ],
      "metadata": {
        "id": "FiMX1h1cX3Nd"
      },
      "execution_count": null,
      "outputs": []
    },
    {
      "cell_type": "code",
      "source": [
        "metrics5b, metrics_train5b, y_pred5b, confusion5b = evaluate_classifier(gs5b, X_test_balanced, y_test_balanced, y_train_balanced, y_pred_train5b, \n",
        "                                    pos_label=1,model_name='RandomForestClassifier with SelectKBest',confusion=True,roc=True)"
      ],
      "metadata": {
        "colab": {
          "base_uri": "https://localhost:8080/",
          "height": 819
        },
        "id": "uH0YhQo5cLuJ",
        "outputId": "679050fc-3fc9-49fe-cb7f-3d271f9f636f"
      },
      "execution_count": null,
      "outputs": [
        {
          "output_type": "stream",
          "name": "stdout",
          "text": [
            "Pipeline(steps=[('features',\n",
            "                 Pipeline(steps=[('pca', 'passthrough'),\n",
            "                                 ('selectkbest', SelectKBest(k=8))])),\n",
            "                ('model',\n",
            "                 ClfSwitcher(estimator=RandomForestClassifier(class_weight='balanced',\n",
            "                                                              min_samples_leaf=5,\n",
            "                                                              n_estimators=150,\n",
            "                                                              random_state=0)))])\n",
            "\n",
            "RandomForestClassifier with SelectKBest evaluation metrics: \n",
            "\tTest data\tTraining data\t\tDifference\n",
            "Accuracy: \t72.61%\t\t77.14%\t\t-4.53%\n",
            "Recall: \t82.61%\t\t85.53%\t\t-2.92%\n",
            "Precision: \t62.93%\t\t73.24%\t\t-10.31%\n",
            "F1: \t\t71.44%\t\t78.91%\t\t-7.47%\n",
            "AUC: \t\t74.07%\t\t77.14%\t\t-3.07%\n"
          ]
        },
        {
          "output_type": "display_data",
          "data": {
            "text/plain": [
              "<Figure size 432x288 with 1 Axes>"
            ],
            "image/png": "[encoded data removed]"
          },
          "metadata": {
            "needs_background": "light"
          }
        },
        {
          "output_type": "display_data",
          "data": {
            "text/plain": [
              "<Figure size 432x288 with 2 Axes>"
            ],
            "image/png": "[encoded data removed]"
          },
          "metadata": {
            "needs_background": "light"
          }
        }
      ]
    }
  ]
}